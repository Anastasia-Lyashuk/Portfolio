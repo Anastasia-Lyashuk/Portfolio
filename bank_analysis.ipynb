{
  "cells": [
    {
      "cell_type": "markdown",
      "metadata": {
        "id": "view-in-github",
        "colab_type": "text"
      },
      "source": [
        "<a href=\"https://colab.research.google.com/github/Anastasia-Lyashuk/Portfolio/blob/main/bank_analysis.ipynb\" target=\"_parent\"><img src=\"https://colab.research.google.com/assets/colab-badge.svg\" alt=\"Open In Colab\"/></a>"
      ]
    },
    {
      "cell_type": "markdown",
      "id": "ea226d90",
      "metadata": {
        "deletable": false,
        "editable": false,
        "id": "ea226d90"
      },
      "source": [
        "## 1. Откроем таблицу и изучим общую информацию о данных"
      ]
    },
    {
      "cell_type": "markdown",
      "id": "05497fa7",
      "metadata": {
        "deletable": false,
        "editable": false,
        "id": "05497fa7"
      },
      "source": [
        "### 1.1. Импорт библиотеки pandas. Считайем данные из csv-файла в датафрейм и сохраните в переменную `data`."
      ]
    },
    {
      "cell_type": "code",
      "execution_count": null,
      "id": "91564bfe",
      "metadata": {
        "deletable": false,
        "id": "91564bfe"
      },
      "outputs": [],
      "source": [
        "import pandas as pd\n",
        "\n",
        "try:\n",
        "    data = pd.read_csv('/datasets/data.csv')\n",
        "except:\n",
        "    data = pd.read_csv('https://code.s3.yandex.net/datasets/data.csv')"
      ]
    },
    {
      "cell_type": "markdown",
      "id": "e0282391",
      "metadata": {
        "deletable": false,
        "editable": false,
        "id": "e0282391"
      },
      "source": [
        "### 1.2. Выведем первые 20 строчек датафрейма\n"
      ]
    },
    {
      "cell_type": "code",
      "execution_count": null,
      "id": "0a5814cd",
      "metadata": {
        "deletable": false,
        "id": "0a5814cd",
        "outputId": "1a8f3ef2-d323-4ec2-ddf7-89670b5944c4"
      },
      "outputs": [
        {
          "data": {
            "text/html": [
              "<div>\n",
              "<style scoped>\n",
              "    .dataframe tbody tr th:only-of-type {\n",
              "        vertical-align: middle;\n",
              "    }\n",
              "\n",
              "    .dataframe tbody tr th {\n",
              "        vertical-align: top;\n",
              "    }\n",
              "\n",
              "    .dataframe thead th {\n",
              "        text-align: right;\n",
              "    }\n",
              "</style>\n",
              "<table border=\"1\" class=\"dataframe\">\n",
              "  <thead>\n",
              "    <tr style=\"text-align: right;\">\n",
              "      <th></th>\n",
              "      <th>children</th>\n",
              "      <th>days_employed</th>\n",
              "      <th>dob_years</th>\n",
              "      <th>education</th>\n",
              "      <th>education_id</th>\n",
              "      <th>family_status</th>\n",
              "      <th>family_status_id</th>\n",
              "      <th>gender</th>\n",
              "      <th>income_type</th>\n",
              "      <th>debt</th>\n",
              "      <th>total_income</th>\n",
              "      <th>purpose</th>\n",
              "    </tr>\n",
              "  </thead>\n",
              "  <tbody>\n",
              "    <tr>\n",
              "      <th>0</th>\n",
              "      <td>1</td>\n",
              "      <td>-8437.673028</td>\n",
              "      <td>42</td>\n",
              "      <td>высшее</td>\n",
              "      <td>0</td>\n",
              "      <td>женат / замужем</td>\n",
              "      <td>0</td>\n",
              "      <td>F</td>\n",
              "      <td>сотрудник</td>\n",
              "      <td>0</td>\n",
              "      <td>253875.639453</td>\n",
              "      <td>покупка жилья</td>\n",
              "    </tr>\n",
              "    <tr>\n",
              "      <th>1</th>\n",
              "      <td>1</td>\n",
              "      <td>-4024.803754</td>\n",
              "      <td>36</td>\n",
              "      <td>среднее</td>\n",
              "      <td>1</td>\n",
              "      <td>женат / замужем</td>\n",
              "      <td>0</td>\n",
              "      <td>F</td>\n",
              "      <td>сотрудник</td>\n",
              "      <td>0</td>\n",
              "      <td>112080.014102</td>\n",
              "      <td>приобретение автомобиля</td>\n",
              "    </tr>\n",
              "    <tr>\n",
              "      <th>2</th>\n",
              "      <td>0</td>\n",
              "      <td>-5623.422610</td>\n",
              "      <td>33</td>\n",
              "      <td>Среднее</td>\n",
              "      <td>1</td>\n",
              "      <td>женат / замужем</td>\n",
              "      <td>0</td>\n",
              "      <td>M</td>\n",
              "      <td>сотрудник</td>\n",
              "      <td>0</td>\n",
              "      <td>145885.952297</td>\n",
              "      <td>покупка жилья</td>\n",
              "    </tr>\n",
              "    <tr>\n",
              "      <th>3</th>\n",
              "      <td>3</td>\n",
              "      <td>-4124.747207</td>\n",
              "      <td>32</td>\n",
              "      <td>среднее</td>\n",
              "      <td>1</td>\n",
              "      <td>женат / замужем</td>\n",
              "      <td>0</td>\n",
              "      <td>M</td>\n",
              "      <td>сотрудник</td>\n",
              "      <td>0</td>\n",
              "      <td>267628.550329</td>\n",
              "      <td>дополнительное образование</td>\n",
              "    </tr>\n",
              "    <tr>\n",
              "      <th>4</th>\n",
              "      <td>0</td>\n",
              "      <td>340266.072047</td>\n",
              "      <td>53</td>\n",
              "      <td>среднее</td>\n",
              "      <td>1</td>\n",
              "      <td>гражданский брак</td>\n",
              "      <td>1</td>\n",
              "      <td>F</td>\n",
              "      <td>пенсионер</td>\n",
              "      <td>0</td>\n",
              "      <td>158616.077870</td>\n",
              "      <td>сыграть свадьбу</td>\n",
              "    </tr>\n",
              "    <tr>\n",
              "      <th>5</th>\n",
              "      <td>0</td>\n",
              "      <td>-926.185831</td>\n",
              "      <td>27</td>\n",
              "      <td>высшее</td>\n",
              "      <td>0</td>\n",
              "      <td>гражданский брак</td>\n",
              "      <td>1</td>\n",
              "      <td>M</td>\n",
              "      <td>компаньон</td>\n",
              "      <td>0</td>\n",
              "      <td>255763.565419</td>\n",
              "      <td>покупка жилья</td>\n",
              "    </tr>\n",
              "    <tr>\n",
              "      <th>6</th>\n",
              "      <td>0</td>\n",
              "      <td>-2879.202052</td>\n",
              "      <td>43</td>\n",
              "      <td>высшее</td>\n",
              "      <td>0</td>\n",
              "      <td>женат / замужем</td>\n",
              "      <td>0</td>\n",
              "      <td>F</td>\n",
              "      <td>компаньон</td>\n",
              "      <td>0</td>\n",
              "      <td>240525.971920</td>\n",
              "      <td>операции с жильем</td>\n",
              "    </tr>\n",
              "    <tr>\n",
              "      <th>7</th>\n",
              "      <td>0</td>\n",
              "      <td>-152.779569</td>\n",
              "      <td>50</td>\n",
              "      <td>СРЕДНЕЕ</td>\n",
              "      <td>1</td>\n",
              "      <td>женат / замужем</td>\n",
              "      <td>0</td>\n",
              "      <td>M</td>\n",
              "      <td>сотрудник</td>\n",
              "      <td>0</td>\n",
              "      <td>135823.934197</td>\n",
              "      <td>образование</td>\n",
              "    </tr>\n",
              "    <tr>\n",
              "      <th>8</th>\n",
              "      <td>2</td>\n",
              "      <td>-6929.865299</td>\n",
              "      <td>35</td>\n",
              "      <td>ВЫСШЕЕ</td>\n",
              "      <td>0</td>\n",
              "      <td>гражданский брак</td>\n",
              "      <td>1</td>\n",
              "      <td>F</td>\n",
              "      <td>сотрудник</td>\n",
              "      <td>0</td>\n",
              "      <td>95856.832424</td>\n",
              "      <td>на проведение свадьбы</td>\n",
              "    </tr>\n",
              "    <tr>\n",
              "      <th>9</th>\n",
              "      <td>0</td>\n",
              "      <td>-2188.756445</td>\n",
              "      <td>41</td>\n",
              "      <td>среднее</td>\n",
              "      <td>1</td>\n",
              "      <td>женат / замужем</td>\n",
              "      <td>0</td>\n",
              "      <td>M</td>\n",
              "      <td>сотрудник</td>\n",
              "      <td>0</td>\n",
              "      <td>144425.938277</td>\n",
              "      <td>покупка жилья для семьи</td>\n",
              "    </tr>\n",
              "    <tr>\n",
              "      <th>10</th>\n",
              "      <td>2</td>\n",
              "      <td>-4171.483647</td>\n",
              "      <td>36</td>\n",
              "      <td>высшее</td>\n",
              "      <td>0</td>\n",
              "      <td>женат / замужем</td>\n",
              "      <td>0</td>\n",
              "      <td>M</td>\n",
              "      <td>компаньон</td>\n",
              "      <td>0</td>\n",
              "      <td>113943.491460</td>\n",
              "      <td>покупка недвижимости</td>\n",
              "    </tr>\n",
              "    <tr>\n",
              "      <th>11</th>\n",
              "      <td>0</td>\n",
              "      <td>-792.701887</td>\n",
              "      <td>40</td>\n",
              "      <td>среднее</td>\n",
              "      <td>1</td>\n",
              "      <td>женат / замужем</td>\n",
              "      <td>0</td>\n",
              "      <td>F</td>\n",
              "      <td>сотрудник</td>\n",
              "      <td>0</td>\n",
              "      <td>77069.234271</td>\n",
              "      <td>покупка коммерческой недвижимости</td>\n",
              "    </tr>\n",
              "    <tr>\n",
              "      <th>12</th>\n",
              "      <td>0</td>\n",
              "      <td>NaN</td>\n",
              "      <td>65</td>\n",
              "      <td>среднее</td>\n",
              "      <td>1</td>\n",
              "      <td>гражданский брак</td>\n",
              "      <td>1</td>\n",
              "      <td>M</td>\n",
              "      <td>пенсионер</td>\n",
              "      <td>0</td>\n",
              "      <td>NaN</td>\n",
              "      <td>сыграть свадьбу</td>\n",
              "    </tr>\n",
              "    <tr>\n",
              "      <th>13</th>\n",
              "      <td>0</td>\n",
              "      <td>-1846.641941</td>\n",
              "      <td>54</td>\n",
              "      <td>неоконченное высшее</td>\n",
              "      <td>2</td>\n",
              "      <td>женат / замужем</td>\n",
              "      <td>0</td>\n",
              "      <td>F</td>\n",
              "      <td>сотрудник</td>\n",
              "      <td>0</td>\n",
              "      <td>130458.228857</td>\n",
              "      <td>приобретение автомобиля</td>\n",
              "    </tr>\n",
              "    <tr>\n",
              "      <th>14</th>\n",
              "      <td>0</td>\n",
              "      <td>-1844.956182</td>\n",
              "      <td>56</td>\n",
              "      <td>высшее</td>\n",
              "      <td>0</td>\n",
              "      <td>гражданский брак</td>\n",
              "      <td>1</td>\n",
              "      <td>F</td>\n",
              "      <td>компаньон</td>\n",
              "      <td>1</td>\n",
              "      <td>165127.911772</td>\n",
              "      <td>покупка жилой недвижимости</td>\n",
              "    </tr>\n",
              "    <tr>\n",
              "      <th>15</th>\n",
              "      <td>1</td>\n",
              "      <td>-972.364419</td>\n",
              "      <td>26</td>\n",
              "      <td>среднее</td>\n",
              "      <td>1</td>\n",
              "      <td>женат / замужем</td>\n",
              "      <td>0</td>\n",
              "      <td>F</td>\n",
              "      <td>сотрудник</td>\n",
              "      <td>0</td>\n",
              "      <td>116820.904450</td>\n",
              "      <td>строительство собственной недвижимости</td>\n",
              "    </tr>\n",
              "    <tr>\n",
              "      <th>16</th>\n",
              "      <td>0</td>\n",
              "      <td>-1719.934226</td>\n",
              "      <td>35</td>\n",
              "      <td>среднее</td>\n",
              "      <td>1</td>\n",
              "      <td>женат / замужем</td>\n",
              "      <td>0</td>\n",
              "      <td>F</td>\n",
              "      <td>сотрудник</td>\n",
              "      <td>0</td>\n",
              "      <td>289202.704229</td>\n",
              "      <td>недвижимость</td>\n",
              "    </tr>\n",
              "    <tr>\n",
              "      <th>17</th>\n",
              "      <td>0</td>\n",
              "      <td>-2369.999720</td>\n",
              "      <td>33</td>\n",
              "      <td>высшее</td>\n",
              "      <td>0</td>\n",
              "      <td>гражданский брак</td>\n",
              "      <td>1</td>\n",
              "      <td>M</td>\n",
              "      <td>сотрудник</td>\n",
              "      <td>0</td>\n",
              "      <td>90410.586745</td>\n",
              "      <td>строительство недвижимости</td>\n",
              "    </tr>\n",
              "    <tr>\n",
              "      <th>18</th>\n",
              "      <td>0</td>\n",
              "      <td>400281.136913</td>\n",
              "      <td>53</td>\n",
              "      <td>среднее</td>\n",
              "      <td>1</td>\n",
              "      <td>вдовец / вдова</td>\n",
              "      <td>2</td>\n",
              "      <td>F</td>\n",
              "      <td>пенсионер</td>\n",
              "      <td>0</td>\n",
              "      <td>56823.777243</td>\n",
              "      <td>на покупку подержанного автомобиля</td>\n",
              "    </tr>\n",
              "    <tr>\n",
              "      <th>19</th>\n",
              "      <td>0</td>\n",
              "      <td>-10038.818549</td>\n",
              "      <td>48</td>\n",
              "      <td>СРЕДНЕЕ</td>\n",
              "      <td>1</td>\n",
              "      <td>в разводе</td>\n",
              "      <td>3</td>\n",
              "      <td>F</td>\n",
              "      <td>сотрудник</td>\n",
              "      <td>0</td>\n",
              "      <td>242831.107982</td>\n",
              "      <td>на покупку своего автомобиля</td>\n",
              "    </tr>\n",
              "  </tbody>\n",
              "</table>\n",
              "</div>"
            ],
            "text/plain": [
              "    children  days_employed  dob_years            education  education_id  \\\n",
              "0          1   -8437.673028         42               высшее             0   \n",
              "1          1   -4024.803754         36              среднее             1   \n",
              "2          0   -5623.422610         33              Среднее             1   \n",
              "3          3   -4124.747207         32              среднее             1   \n",
              "4          0  340266.072047         53              среднее             1   \n",
              "5          0    -926.185831         27               высшее             0   \n",
              "6          0   -2879.202052         43               высшее             0   \n",
              "7          0    -152.779569         50              СРЕДНЕЕ             1   \n",
              "8          2   -6929.865299         35               ВЫСШЕЕ             0   \n",
              "9          0   -2188.756445         41              среднее             1   \n",
              "10         2   -4171.483647         36               высшее             0   \n",
              "11         0    -792.701887         40              среднее             1   \n",
              "12         0            NaN         65              среднее             1   \n",
              "13         0   -1846.641941         54  неоконченное высшее             2   \n",
              "14         0   -1844.956182         56               высшее             0   \n",
              "15         1    -972.364419         26              среднее             1   \n",
              "16         0   -1719.934226         35              среднее             1   \n",
              "17         0   -2369.999720         33               высшее             0   \n",
              "18         0  400281.136913         53              среднее             1   \n",
              "19         0  -10038.818549         48              СРЕДНЕЕ             1   \n",
              "\n",
              "       family_status  family_status_id gender income_type  debt  \\\n",
              "0    женат / замужем                 0      F   сотрудник     0   \n",
              "1    женат / замужем                 0      F   сотрудник     0   \n",
              "2    женат / замужем                 0      M   сотрудник     0   \n",
              "3    женат / замужем                 0      M   сотрудник     0   \n",
              "4   гражданский брак                 1      F   пенсионер     0   \n",
              "5   гражданский брак                 1      M   компаньон     0   \n",
              "6    женат / замужем                 0      F   компаньон     0   \n",
              "7    женат / замужем                 0      M   сотрудник     0   \n",
              "8   гражданский брак                 1      F   сотрудник     0   \n",
              "9    женат / замужем                 0      M   сотрудник     0   \n",
              "10   женат / замужем                 0      M   компаньон     0   \n",
              "11   женат / замужем                 0      F   сотрудник     0   \n",
              "12  гражданский брак                 1      M   пенсионер     0   \n",
              "13   женат / замужем                 0      F   сотрудник     0   \n",
              "14  гражданский брак                 1      F   компаньон     1   \n",
              "15   женат / замужем                 0      F   сотрудник     0   \n",
              "16   женат / замужем                 0      F   сотрудник     0   \n",
              "17  гражданский брак                 1      M   сотрудник     0   \n",
              "18    вдовец / вдова                 2      F   пенсионер     0   \n",
              "19         в разводе                 3      F   сотрудник     0   \n",
              "\n",
              "     total_income                                 purpose  \n",
              "0   253875.639453                           покупка жилья  \n",
              "1   112080.014102                 приобретение автомобиля  \n",
              "2   145885.952297                           покупка жилья  \n",
              "3   267628.550329              дополнительное образование  \n",
              "4   158616.077870                         сыграть свадьбу  \n",
              "5   255763.565419                           покупка жилья  \n",
              "6   240525.971920                       операции с жильем  \n",
              "7   135823.934197                             образование  \n",
              "8    95856.832424                   на проведение свадьбы  \n",
              "9   144425.938277                 покупка жилья для семьи  \n",
              "10  113943.491460                    покупка недвижимости  \n",
              "11   77069.234271       покупка коммерческой недвижимости  \n",
              "12            NaN                         сыграть свадьбу  \n",
              "13  130458.228857                 приобретение автомобиля  \n",
              "14  165127.911772              покупка жилой недвижимости  \n",
              "15  116820.904450  строительство собственной недвижимости  \n",
              "16  289202.704229                            недвижимость  \n",
              "17   90410.586745              строительство недвижимости  \n",
              "18   56823.777243      на покупку подержанного автомобиля  \n",
              "19  242831.107982            на покупку своего автомобиля  "
            ]
          },
          "execution_count": 2,
          "metadata": {},
          "output_type": "execute_result"
        }
      ],
      "source": [
        "data.head(20)"
      ]
    },
    {
      "cell_type": "markdown",
      "id": "b0c02c55",
      "metadata": {
        "deletable": false,
        "editable": false,
        "id": "b0c02c55"
      },
      "source": [
        "### 1.3. Выведем основную информацию о датафрейме\n"
      ]
    },
    {
      "cell_type": "code",
      "execution_count": null,
      "id": "21f49620",
      "metadata": {
        "deletable": false,
        "id": "21f49620",
        "outputId": "15376089-8dad-46c9-b520-c05248d43158"
      },
      "outputs": [
        {
          "name": "stdout",
          "output_type": "stream",
          "text": [
            "<class 'pandas.core.frame.DataFrame'>\n",
            "RangeIndex: 21525 entries, 0 to 21524\n",
            "Data columns (total 12 columns):\n",
            " #   Column            Non-Null Count  Dtype  \n",
            "---  ------            --------------  -----  \n",
            " 0   children          21525 non-null  int64  \n",
            " 1   days_employed     19351 non-null  float64\n",
            " 2   dob_years         21525 non-null  int64  \n",
            " 3   education         21525 non-null  object \n",
            " 4   education_id      21525 non-null  int64  \n",
            " 5   family_status     21525 non-null  object \n",
            " 6   family_status_id  21525 non-null  int64  \n",
            " 7   gender            21525 non-null  object \n",
            " 8   income_type       21525 non-null  object \n",
            " 9   debt              21525 non-null  int64  \n",
            " 10  total_income      19351 non-null  float64\n",
            " 11  purpose           21525 non-null  object \n",
            "dtypes: float64(2), int64(5), object(5)\n",
            "memory usage: 2.0+ MB\n"
          ]
        }
      ],
      "source": [
        "data.info()"
      ]
    },
    {
      "cell_type": "markdown",
      "id": "4890efbb",
      "metadata": {
        "deletable": false,
        "editable": false,
        "id": "4890efbb"
      },
      "source": [
        "## 2. Предобработка данных"
      ]
    },
    {
      "cell_type": "markdown",
      "id": "bd1fcf7b",
      "metadata": {
        "deletable": false,
        "editable": false,
        "id": "bd1fcf7b"
      },
      "source": [
        "### 2.1. Удалим пропуски"
      ]
    },
    {
      "cell_type": "code",
      "execution_count": null,
      "id": "d9990516",
      "metadata": {
        "deletable": false,
        "id": "d9990516",
        "outputId": "81f4d817-781c-465c-ed15-91ce4446810d"
      },
      "outputs": [
        {
          "data": {
            "text/plain": [
              "children               0\n",
              "days_employed       2174\n",
              "dob_years              0\n",
              "education              0\n",
              "education_id           0\n",
              "family_status          0\n",
              "family_status_id       0\n",
              "gender                 0\n",
              "income_type            0\n",
              "debt                   0\n",
              "total_income        2174\n",
              "purpose                0\n",
              "dtype: int64"
            ]
          },
          "execution_count": 4,
          "metadata": {},
          "output_type": "execute_result"
        }
      ],
      "source": [
        "data.isna().sum() # выведем количество пропущенных значений для каждого столбца"
      ]
    },
    {
      "cell_type": "code",
      "execution_count": null,
      "id": "8f816076",
      "metadata": {
        "deletable": false,
        "id": "8f816076"
      },
      "outputs": [],
      "source": [
        "for t in data['income_type'].unique():\n",
        "    data.loc[(data['income_type'] == t) & (data['total_income'].isna()), 'total_income'] = \\\n",
        "    data.loc[(data['income_type'] == t), 'total_income'].median() # заполниv пропуски медианным значением по каждому типу дохода"
      ]
    },
    {
      "cell_type": "code",
      "execution_count": null,
      "id": "85fe72a0",
      "metadata": {
        "deletable": false,
        "id": "85fe72a0"
      },
      "outputs": [],
      "source": [
        "for t in data['income_type'].unique():\n",
        "    data.loc[(data['income_type'] == t) & (data['days_employed'].isna()), 'days_employed'] = \\\n",
        "    data.loc[(data['income_type'] == t), 'days_employed'].median() # заполним пропуски в столбце медианными значениями по каждому типу занятости"
      ]
    },
    {
      "cell_type": "code",
      "execution_count": null,
      "id": "94c569bc",
      "metadata": {
        "deletable": false,
        "id": "94c569bc",
        "outputId": "8da1e4e1-358e-4e87-98c9-f261bce0a7b2"
      },
      "outputs": [
        {
          "data": {
            "text/plain": [
              "children            0\n",
              "days_employed       0\n",
              "dob_years           0\n",
              "education           0\n",
              "education_id        0\n",
              "family_status       0\n",
              "family_status_id    0\n",
              "gender              0\n",
              "income_type         0\n",
              "debt                0\n",
              "total_income        0\n",
              "purpose             0\n",
              "dtype: int64"
            ]
          },
          "execution_count": 12,
          "metadata": {},
          "output_type": "execute_result"
        }
      ],
      "source": [
        "data.isna().sum() # проверим пропуски после обработки"
      ]
    },
    {
      "cell_type": "markdown",
      "id": "d634d749",
      "metadata": {
        "deletable": false,
        "editable": false,
        "id": "d634d749"
      },
      "source": [
        "### 2.2. Обработаем аномальные значения"
      ]
    },
    {
      "cell_type": "code",
      "execution_count": null,
      "id": "1b15959c",
      "metadata": {
        "deletable": false,
        "id": "1b15959c"
      },
      "outputs": [],
      "source": [
        "data['days_employed'] = data['days_employed'].abs() # заменим все отрицательные значения положительными"
      ]
    },
    {
      "cell_type": "code",
      "execution_count": null,
      "id": "85cdf79e",
      "metadata": {
        "deletable": false,
        "id": "85cdf79e",
        "outputId": "801ef80e-522b-4668-f34e-565af7432bcf"
      },
      "outputs": [
        {
          "data": {
            "text/plain": [
              "income_type\n",
              "безработный        366413.652744\n",
              "в декрете            3296.759962\n",
              "госслужащий          2689.368353\n",
              "компаньон            1547.382223\n",
              "пенсионер          365213.306266\n",
              "предприниматель       520.848083\n",
              "сотрудник            1574.202821\n",
              "студент               578.751554\n",
              "Name: days_employed, dtype: float64"
            ]
          },
          "execution_count": 7,
          "metadata": {},
          "output_type": "execute_result"
        }
      ],
      "source": [
        "data.groupby('income_type')['days_employed'].agg('median') # выведите медианное значение трудового стажа в днях."
      ]
    },
    {
      "cell_type": "markdown",
      "id": "ed84d2cd",
      "metadata": {
        "deletable": false,
        "editable": false,
        "id": "ed84d2cd"
      },
      "source": [
        "У двух типов (безработные и пенсионеры) получатся аномально большие значения. Исправить такие значения сложно и этот столбец не понадобится для дальнейшего исследования, поэтому оставим как есть"
      ]
    },
    {
      "cell_type": "code",
      "execution_count": null,
      "id": "9bd2e8b7",
      "metadata": {
        "deletable": false,
        "id": "9bd2e8b7",
        "outputId": "6975b15c-7f95-4697-d16d-a0c79b657b03"
      },
      "outputs": [
        {
          "data": {
            "text/plain": [
              "array([ 1,  0,  3,  2, -1,  4, 20,  5])"
            ]
          },
          "execution_count": 8,
          "metadata": {},
          "output_type": "execute_result"
        }
      ],
      "source": [
        "data['children'].unique() # выведем уникальные значеня столбца"
      ]
    },
    {
      "cell_type": "code",
      "execution_count": null,
      "id": "dab8853a",
      "metadata": {
        "deletable": false,
        "id": "dab8853a"
      },
      "outputs": [],
      "source": [
        "data = data[(data['children'] != -1) & (data['children'] != 20)] # удалим строки, в которых встречаются аномальные значения из датафрейма"
      ]
    },
    {
      "cell_type": "code",
      "execution_count": null,
      "id": "0192089e",
      "metadata": {
        "deletable": false,
        "id": "0192089e",
        "outputId": "b2097101-d49d-44d9-901b-32a65c9463d1"
      },
      "outputs": [
        {
          "data": {
            "text/plain": [
              "array([1, 0, 3, 2, 4, 5])"
            ]
          },
          "execution_count": 10,
          "metadata": {},
          "output_type": "execute_result"
        }
      ],
      "source": [
        "data['children'].unique() # выведем уникальные значеня столбца для проверки"
      ]
    },
    {
      "cell_type": "markdown",
      "id": "67eda1e7",
      "metadata": {
        "deletable": false,
        "editable": false,
        "id": "67eda1e7"
      },
      "source": [
        "### 2.3. Изменим типы данных"
      ]
    },
    {
      "cell_type": "code",
      "execution_count": null,
      "id": "93414a3c",
      "metadata": {
        "deletable": false,
        "id": "93414a3c"
      },
      "outputs": [],
      "source": [
        "data['total_income'] = data['total_income'].astype(int) #  заменим вещественный на целочисленный тип данных"
      ]
    },
    {
      "cell_type": "markdown",
      "id": "4043db5e",
      "metadata": {
        "deletable": false,
        "editable": false,
        "id": "4043db5e"
      },
      "source": [
        "### 2.4. Обработаем дубликаты"
      ]
    },
    {
      "cell_type": "code",
      "execution_count": null,
      "id": "12cae3bb",
      "metadata": {
        "deletable": false,
        "id": "12cae3bb"
      },
      "outputs": [],
      "source": [
        "data['education'] = data['education'].str.lower() # приведем значения в столбце к нижнему регистру"
      ]
    },
    {
      "cell_type": "code",
      "execution_count": null,
      "id": "f25c164e",
      "metadata": {
        "deletable": false,
        "id": "f25c164e",
        "outputId": "9684deba-1934-42d1-99e1-cda61740f822"
      },
      "outputs": [
        {
          "data": {
            "text/plain": [
              "71"
            ]
          },
          "execution_count": 15,
          "metadata": {},
          "output_type": "execute_result"
        }
      ],
      "source": [
        "data.duplicated().sum() # выведем на экран количетво строк-дубликатов"
      ]
    },
    {
      "cell_type": "code",
      "execution_count": null,
      "id": "56145478",
      "metadata": {
        "deletable": false,
        "id": "56145478"
      },
      "outputs": [],
      "source": [
        "data = data.drop_duplicates() # удалим строки-дубликаты"
      ]
    },
    {
      "cell_type": "markdown",
      "id": "90b94176",
      "metadata": {
        "deletable": false,
        "editable": false,
        "id": "90b94176"
      },
      "source": [
        "### 2.5. Категоризация данных"
      ]
    },
    {
      "cell_type": "markdown",
      "id": "b177f822",
      "metadata": {
        "deletable": false,
        "editable": false,
        "id": "b177f822"
      },
      "source": [
        "#### 2.5.1. Создадим столбец total_income_category, в котором укажем категории, в зависимости от дохода.\n",
        "\n"
      ]
    },
    {
      "cell_type": "code",
      "execution_count": null,
      "id": "c2ec3f1f",
      "metadata": {
        "deletable": false,
        "id": "c2ec3f1f"
      },
      "outputs": [],
      "source": [
        "# создадим функцию для создания категорий в зависимости от размера дохода\n",
        "def categorize_income(income):\n",
        "    try:\n",
        "        if 0 <= income <= 30000:\n",
        "            return 'E'\n",
        "        elif 30001 <= income <= 50000:\n",
        "            return 'D'\n",
        "        elif 50001 <= income <= 200000:\n",
        "            return 'C'\n",
        "        elif 200001 <= income <= 1000000:\n",
        "            return 'B'\n",
        "        elif income >= 1000001:\n",
        "            return 'A'\n",
        "    except:\n",
        "        pass"
      ]
    },
    {
      "cell_type": "code",
      "execution_count": null,
      "id": "dd151f8b",
      "metadata": {
        "deletable": false,
        "id": "dd151f8b"
      },
      "outputs": [],
      "source": [
        "data['total_income_category'] = data['total_income'].apply(categorize_income)"
      ]
    },
    {
      "cell_type": "code",
      "execution_count": null,
      "id": "373cc077",
      "metadata": {
        "deletable": false,
        "id": "373cc077",
        "outputId": "673c12d9-7d7e-4ae0-9812-c622c89dd244"
      },
      "outputs": [
        {
          "data": {
            "text/plain": [
              "array(['покупка жилья', 'приобретение автомобиля',\n",
              "       'дополнительное образование', 'сыграть свадьбу',\n",
              "       'операции с жильем', 'образование', 'на проведение свадьбы',\n",
              "       'покупка жилья для семьи', 'покупка недвижимости',\n",
              "       'покупка коммерческой недвижимости', 'покупка жилой недвижимости',\n",
              "       'строительство собственной недвижимости', 'недвижимость',\n",
              "       'строительство недвижимости', 'на покупку подержанного автомобиля',\n",
              "       'на покупку своего автомобиля',\n",
              "       'операции с коммерческой недвижимостью',\n",
              "       'строительство жилой недвижимости', 'жилье',\n",
              "       'операции со своей недвижимостью', 'автомобили',\n",
              "       'заняться образованием', 'сделка с подержанным автомобилем',\n",
              "       'получение образования', 'автомобиль', 'свадьба',\n",
              "       'получение дополнительного образования', 'покупка своего жилья',\n",
              "       'операции с недвижимостью', 'получение высшего образования',\n",
              "       'свой автомобиль', 'сделка с автомобилем',\n",
              "       'профильное образование', 'высшее образование',\n",
              "       'покупка жилья для сдачи', 'на покупку автомобиля', 'ремонт жилью',\n",
              "       'заняться высшим образованием'], dtype=object)"
            ]
          },
          "execution_count": 19,
          "metadata": {},
          "output_type": "execute_result"
        }
      ],
      "source": [
        "data['purpose'].unique() # выведем на экран перечень уникальных целей взятия кредита"
      ]
    },
    {
      "cell_type": "markdown",
      "id": "22d3e6aa",
      "metadata": {
        "deletable": false,
        "editable": false,
        "id": "22d3e6aa"
      },
      "source": [
        "#### 2.5.2. Создадим функцию, которая на основании данных из столбца `purpose` сформирует новый столбец `purpose_category`, в который войдут следующие категории:\n",
        "- `'операции с автомобилем'`,\n",
        "- `'операции с недвижимостью'`,\n",
        "- `'проведение свадьбы'`,\n",
        "- `'получение образования'`.\n"
      ]
    },
    {
      "cell_type": "code",
      "execution_count": null,
      "id": "347bd832",
      "metadata": {
        "deletable": false,
        "id": "347bd832"
      },
      "outputs": [],
      "source": [
        "def categorize_purpose(row):\n",
        "    try:\n",
        "        if 'автом' in row:\n",
        "            return 'операции с автомобилем'\n",
        "        elif 'жил' in row or 'недвиж' in row:\n",
        "            return 'операции с недвижимостью'\n",
        "        elif 'свад' in row:\n",
        "            return 'проведение свадьбы'\n",
        "        elif 'образов' in row:\n",
        "            return 'получение образования'\n",
        "    except:\n",
        "        return 'нет категории'"
      ]
    },
    {
      "cell_type": "code",
      "execution_count": null,
      "id": "340e1c1d",
      "metadata": {
        "deletable": false,
        "id": "340e1c1d"
      },
      "outputs": [],
      "source": [
        "data['purpose_category'] = data['purpose'].apply(categorize_purpose)"
      ]
    },
    {
      "cell_type": "markdown",
      "id": "d4c62f04",
      "metadata": {
        "deletable": false,
        "editable": false,
        "id": "d4c62f04"
      },
      "source": [
        "### 3. Исследовательский анализ данных\n"
      ]
    },
    {
      "cell_type": "markdown",
      "id": "e4ac4c26",
      "metadata": {
        "deletable": false,
        "editable": false,
        "id": "e4ac4c26"
      },
      "source": [
        "#### 3.1 Определим, есть ли зависимость между количеством детей и возвратом кредита в срок"
      ]
    },
    {
      "cell_type": "code",
      "execution_count": null,
      "id": "ebbc2448",
      "metadata": {
        "deletable": false,
        "id": "ebbc2448",
        "scrolled": false,
        "outputId": "aeeb5379-f074-454c-ece4-09d7d7af7db0"
      },
      "outputs": [
        {
          "name": "stdout",
          "output_type": "stream",
          "text": [
            "                      count   sum      mean\n",
            "                       debt  debt      debt\n",
            "child                                      \n",
            "бездетные заемщики    14091  1063  0.075438\n",
            "малодетные заемщики    6860   638  0.093003\n",
            "многодетные заемщики    380    31  0.081579\n"
          ]
        }
      ],
      "source": [
        "def children_quality(children):\n",
        "    if children == 0:\n",
        "        return 'бездетные заемщики'\n",
        "    if children >= 3:\n",
        "        return 'многодетные заемщики'\n",
        "\n",
        "    return 'малодетные заемщики'\n",
        "\n",
        "data['child'] = data['children'].apply(children_quality)\n",
        "data_children_pivot = data.pivot_table(index=['child'],values='debt',aggfunc=['count','sum','mean'])\n",
        "print(data_children_pivot)"
      ]
    },
    {
      "cell_type": "markdown",
      "id": "390f02e2",
      "metadata": {
        "id": "390f02e2"
      },
      "source": [
        "Самая высокая доля невозврата кредита у малодетных заемщиков (1-2 ребенка) и составляет 9.3%\n",
        "Самая низкая доля невозврата кредита у бездетных заемщиков\n"
      ]
    },
    {
      "cell_type": "markdown",
      "id": "ef0e2aad",
      "metadata": {
        "deletable": false,
        "editable": false,
        "id": "ef0e2aad"
      },
      "source": [
        "#### 3.2 Определим, есть ли зависимость между семейным положением и возвратом кредита в срок."
      ]
    },
    {
      "cell_type": "code",
      "execution_count": null,
      "id": "a845ac15",
      "metadata": {
        "deletable": false,
        "id": "a845ac15",
        "scrolled": true,
        "outputId": "517c5d4a-baec-4aee-8cb7-970c8d9419d5"
      },
      "outputs": [
        {
          "name": "stdout",
          "output_type": "stream",
          "text": [
            "                       count  sum      mean\n",
            "                        debt debt      debt\n",
            "family_status                              \n",
            "Не женат / не замужем   2796  273  0.097639\n",
            "в разводе               1189   84  0.070648\n",
            "вдовец / вдова           951   63  0.066246\n",
            "гражданский брак        4134  385  0.093130\n",
            "женат / замужем        12261  927  0.075606\n"
          ]
        }
      ],
      "source": [
        "data_family_status_pivot = data.pivot_table(index=['family_status'], values='debt',aggfunc=['count','sum','mean'])\n",
        "print(data_family_status_pivot)\n",
        " # Ваш код будет здесь. Вы можете создавать новые ячейки."
      ]
    },
    {
      "cell_type": "markdown",
      "id": "3ab89f04",
      "metadata": {
        "id": "3ab89f04"
      },
      "source": [
        "Самая низкая доля невозврата в категориях \"вдова/вдовец\"\n",
        "и \"в разводе\"  6.62% и 7.06% соответственно.\n",
        "Самая высокая доля в категориях \"не женат/не замужем\" и \"гражданский брак\"  9.76% и 9.31% сответсвенно.  "
      ]
    },
    {
      "cell_type": "markdown",
      "id": "dd281af5",
      "metadata": {
        "deletable": false,
        "editable": false,
        "id": "dd281af5"
      },
      "source": [
        "#### 3.3 Определим, есть ли зависимость между уровнем дохода и возвратом кредита в срок"
      ]
    },
    {
      "cell_type": "code",
      "execution_count": null,
      "id": "c67bf820",
      "metadata": {
        "deletable": false,
        "id": "c67bf820",
        "outputId": "fbcf9b80-366b-47b2-db32-aa3324fd506e"
      },
      "outputs": [
        {
          "data": {
            "text/html": [
              "<div>\n",
              "<style scoped>\n",
              "    .dataframe tbody tr th:only-of-type {\n",
              "        vertical-align: middle;\n",
              "    }\n",
              "\n",
              "    .dataframe tbody tr th {\n",
              "        vertical-align: top;\n",
              "    }\n",
              "\n",
              "    .dataframe thead th {\n",
              "        text-align: right;\n",
              "    }\n",
              "</style>\n",
              "<table border=\"1\" class=\"dataframe\">\n",
              "  <thead>\n",
              "    <tr style=\"text-align: right;\">\n",
              "      <th></th>\n",
              "      <th>count</th>\n",
              "      <th>sum</th>\n",
              "      <th>mean</th>\n",
              "    </tr>\n",
              "    <tr>\n",
              "      <th>total_income_category</th>\n",
              "      <th></th>\n",
              "      <th></th>\n",
              "      <th></th>\n",
              "    </tr>\n",
              "  </thead>\n",
              "  <tbody>\n",
              "    <tr>\n",
              "      <th>A</th>\n",
              "      <td>25</td>\n",
              "      <td>2</td>\n",
              "      <td>0.080000</td>\n",
              "    </tr>\n",
              "    <tr>\n",
              "      <th>B</th>\n",
              "      <td>5014</td>\n",
              "      <td>354</td>\n",
              "      <td>0.070602</td>\n",
              "    </tr>\n",
              "    <tr>\n",
              "      <th>C</th>\n",
              "      <td>15921</td>\n",
              "      <td>1353</td>\n",
              "      <td>0.084982</td>\n",
              "    </tr>\n",
              "    <tr>\n",
              "      <th>D</th>\n",
              "      <td>349</td>\n",
              "      <td>21</td>\n",
              "      <td>0.060172</td>\n",
              "    </tr>\n",
              "    <tr>\n",
              "      <th>E</th>\n",
              "      <td>22</td>\n",
              "      <td>2</td>\n",
              "      <td>0.090909</td>\n",
              "    </tr>\n",
              "  </tbody>\n",
              "</table>\n",
              "</div>"
            ],
            "text/plain": [
              "                       count   sum      mean\n",
              "total_income_category                       \n",
              "A                         25     2  0.080000\n",
              "B                       5014   354  0.070602\n",
              "C                      15921  1353  0.084982\n",
              "D                        349    21  0.060172\n",
              "E                         22     2  0.090909"
            ]
          },
          "execution_count": 24,
          "metadata": {},
          "output_type": "execute_result"
        }
      ],
      "source": [
        "data.groupby('total_income_category')['debt'].agg(['count','sum','mean'])\n",
        "# Ваш код будет здесь. Вы можете создавать новые ячейки."
      ]
    },
    {
      "cell_type": "code",
      "execution_count": null,
      "id": "19d024fb",
      "metadata": {
        "id": "19d024fb",
        "outputId": "a778c5b1-787b-4d10-cd1f-d060f2822aec"
      },
      "outputs": [
        {
          "data": {
            "text/html": [
              "<div>\n",
              "<style scoped>\n",
              "    .dataframe tbody tr th:only-of-type {\n",
              "        vertical-align: middle;\n",
              "    }\n",
              "\n",
              "    .dataframe tbody tr th {\n",
              "        vertical-align: top;\n",
              "    }\n",
              "\n",
              "    .dataframe thead th {\n",
              "        text-align: right;\n",
              "    }\n",
              "</style>\n",
              "<table border=\"1\" class=\"dataframe\">\n",
              "  <thead>\n",
              "    <tr style=\"text-align: right;\">\n",
              "      <th></th>\n",
              "      <th>count</th>\n",
              "      <th>sum</th>\n",
              "      <th>mean</th>\n",
              "    </tr>\n",
              "    <tr>\n",
              "      <th>total_income_category_new</th>\n",
              "      <th></th>\n",
              "      <th></th>\n",
              "      <th></th>\n",
              "    </tr>\n",
              "  </thead>\n",
              "  <tbody>\n",
              "    <tr>\n",
              "      <th>доход более 200001</th>\n",
              "      <td>5039</td>\n",
              "      <td>356</td>\n",
              "      <td>0.070649</td>\n",
              "    </tr>\n",
              "    <tr>\n",
              "      <th>доход менее 100000</th>\n",
              "      <td>2265</td>\n",
              "      <td>174</td>\n",
              "      <td>0.076821</td>\n",
              "    </tr>\n",
              "    <tr>\n",
              "      <th>доход от 100001 до 200000</th>\n",
              "      <td>14027</td>\n",
              "      <td>1202</td>\n",
              "      <td>0.085692</td>\n",
              "    </tr>\n",
              "  </tbody>\n",
              "</table>\n",
              "</div>"
            ],
            "text/plain": [
              "                           count   sum      mean\n",
              "total_income_category_new                       \n",
              "доход более 200001          5039   356  0.070649\n",
              "доход менее 100000          2265   174  0.076821\n",
              "доход от 100001 до 200000  14027  1202  0.085692"
            ]
          },
          "execution_count": 25,
          "metadata": {},
          "output_type": "execute_result"
        }
      ],
      "source": [
        "def categorize_income_new(income):\n",
        "    try:\n",
        "        if 0 <= income <= 80000:\n",
        "            return 'доход менее 100000'\n",
        "        elif 80001 <= income <= 200000:\n",
        "            return 'доход от 100001 до 200000'\n",
        "        elif income >= 200001:\n",
        "            return 'доход более 200001'\n",
        "    except:\n",
        "        pass\n",
        "\n",
        "data['total_income_category_new'] = data['total_income'].apply(categorize_income_new)\n",
        "data.groupby('total_income_category_new')['debt'].agg(['count','sum','mean'])"
      ]
    },
    {
      "cell_type": "markdown",
      "id": "7c4c99b8",
      "metadata": {
        "id": "7c4c99b8"
      },
      "source": [
        "Для анализа используются только категории В и С, поскольку они являются самыми крупными, а по остальным категориям недостаточно данных для корректных выводов. Таким образорм, самая высокая доля невозврата в категории С (доход от 50000 до 200000) 8.5%. Самая низкая доля невозврата в категории В (доход от 200000 до 1000000) 7.06%"
      ]
    },
    {
      "cell_type": "markdown",
      "id": "d6caf089",
      "metadata": {
        "deletable": false,
        "editable": false,
        "id": "d6caf089"
      },
      "source": [
        "#### 3.4 Выясним, как разные цели кредита влияют на его возврат в срок"
      ]
    },
    {
      "cell_type": "code",
      "execution_count": null,
      "id": "93552260",
      "metadata": {
        "deletable": false,
        "id": "93552260",
        "outputId": "2ae586a1-f4cc-453a-8590-6021ae197fb5"
      },
      "outputs": [
        {
          "data": {
            "text/html": [
              "<div>\n",
              "<style scoped>\n",
              "    .dataframe tbody tr th:only-of-type {\n",
              "        vertical-align: middle;\n",
              "    }\n",
              "\n",
              "    .dataframe tbody tr th {\n",
              "        vertical-align: top;\n",
              "    }\n",
              "\n",
              "    .dataframe thead th {\n",
              "        text-align: right;\n",
              "    }\n",
              "</style>\n",
              "<table border=\"1\" class=\"dataframe\">\n",
              "  <thead>\n",
              "    <tr style=\"text-align: right;\">\n",
              "      <th></th>\n",
              "      <th>count</th>\n",
              "      <th>sum</th>\n",
              "      <th>mean</th>\n",
              "    </tr>\n",
              "    <tr>\n",
              "      <th>purpose_category</th>\n",
              "      <th></th>\n",
              "      <th></th>\n",
              "      <th></th>\n",
              "    </tr>\n",
              "  </thead>\n",
              "  <tbody>\n",
              "    <tr>\n",
              "      <th>операции с автомобилем</th>\n",
              "      <td>4279</td>\n",
              "      <td>400</td>\n",
              "      <td>0.093480</td>\n",
              "    </tr>\n",
              "    <tr>\n",
              "      <th>операции с недвижимостью</th>\n",
              "      <td>10751</td>\n",
              "      <td>780</td>\n",
              "      <td>0.072551</td>\n",
              "    </tr>\n",
              "    <tr>\n",
              "      <th>получение образования</th>\n",
              "      <td>3988</td>\n",
              "      <td>369</td>\n",
              "      <td>0.092528</td>\n",
              "    </tr>\n",
              "    <tr>\n",
              "      <th>проведение свадьбы</th>\n",
              "      <td>2313</td>\n",
              "      <td>183</td>\n",
              "      <td>0.079118</td>\n",
              "    </tr>\n",
              "  </tbody>\n",
              "</table>\n",
              "</div>"
            ],
            "text/plain": [
              "                          count  sum      mean\n",
              "purpose_category                              \n",
              "операции с автомобилем     4279  400  0.093480\n",
              "операции с недвижимостью  10751  780  0.072551\n",
              "получение образования      3988  369  0.092528\n",
              "проведение свадьбы         2313  183  0.079118"
            ]
          },
          "execution_count": 26,
          "metadata": {},
          "output_type": "execute_result"
        }
      ],
      "source": [
        "data.groupby('purpose_category')['debt'].agg(['count','sum','mean'])\n",
        "# Ваш код будет здесь. Вы можете создавать новые ячейки."
      ]
    },
    {
      "cell_type": "markdown",
      "id": "824603f9",
      "metadata": {
        "id": "824603f9"
      },
      "source": [
        "Самая высокая доля невозврата кредита в категорях \"операции с автомобилем\" 9.34% и \"получение образования\" 9.25%. В обеих категориях риск примерно одинаковый.\n",
        "Самая низкая доля невозврата кредита в категориях \"проведение свадьбы\" 7.91% и \"оперции с недвижимостью\" 7.26%. В обоих категориях риск примерно одинаковый."
      ]
    },
    {
      "cell_type": "markdown",
      "id": "6e53488d",
      "metadata": {
        "deletable": false,
        "editable": false,
        "id": "6e53488d"
      },
      "source": [
        "### 4. Общий вывод."
      ]
    },
    {
      "cell_type": "markdown",
      "id": "80683e0e",
      "metadata": {
        "id": "80683e0e"
      },
      "source": [
        "По итогам исследования были изучены некоторые факторы, влияющие на невозврат крелита, такие как количество детей, семейное положение, уровень дохода и цель кредита.\n",
        "\n",
        "Самая высока доля невозврата кредита была выявлена в категорях \"малодетные заемщики\" 9.3%, \"не женаты/не замужние\" 9,76% и \"в гражданском браке\" 9.31%, а так же по опрециям с авто 9.35% и по образованию 9.25%. Доля невозврата кредита является самой высокой в категории С \"доход от 50000 до 200000\" и составляет 8,50%.\n",
        "    \n",
        "\n",
        "    \n",
        "В ходе исследования была осуществлена категоризация данны, их сортировака и анализ по заданным критериям.\n",
        "    \n",
        "Рекомендации:\n",
        "При выдаче кредита особое внимание обратить на котегории граждан, у которых 1 или два ребенка, не женатых/ не замужних или находящихся в гражданском баке, с доходом от 50000 до 200000, берущие кредит на учебу или на авто. При общении с потенциальным клиентом, который относится к двум и более перечисленным категориям, следут более внимательно проверить его платежеспособнось и возможно принять меры для уменьшения рисков для банка (возможно, не использовать льготную ставку и проч.)\n"
      ]
    }
  ],
  "metadata": {
    "ExecuteTimeLog": [
      {
        "duration": 586,
        "start_time": "2022-12-08T19:02:03.267Z"
      },
      {
        "duration": 19,
        "start_time": "2022-12-08T19:02:23.555Z"
      },
      {
        "duration": 9,
        "start_time": "2022-12-08T19:03:28.633Z"
      },
      {
        "duration": 47,
        "start_time": "2022-12-08T19:05:10.516Z"
      },
      {
        "duration": 491,
        "start_time": "2022-12-08T19:05:36.365Z"
      },
      {
        "duration": 19,
        "start_time": "2022-12-08T19:05:36.858Z"
      },
      {
        "duration": 12,
        "start_time": "2022-12-08T19:05:36.879Z"
      },
      {
        "duration": 11,
        "start_time": "2022-12-08T19:05:36.893Z"
      },
      {
        "duration": 34,
        "start_time": "2022-12-08T19:05:36.906Z"
      },
      {
        "duration": 3,
        "start_time": "2022-12-08T19:05:36.942Z"
      },
      {
        "duration": 11,
        "start_time": "2022-12-08T19:05:36.947Z"
      },
      {
        "duration": 10,
        "start_time": "2022-12-08T19:05:36.978Z"
      },
      {
        "duration": 7,
        "start_time": "2022-12-08T19:05:36.989Z"
      },
      {
        "duration": 6,
        "start_time": "2022-12-08T19:05:36.999Z"
      },
      {
        "duration": 40,
        "start_time": "2022-12-08T19:05:37.006Z"
      },
      {
        "duration": 9,
        "start_time": "2022-12-08T19:05:37.048Z"
      },
      {
        "duration": 19,
        "start_time": "2022-12-08T19:05:37.059Z"
      },
      {
        "duration": 10,
        "start_time": "2022-12-08T19:05:37.080Z"
      },
      {
        "duration": 27,
        "start_time": "2022-12-08T19:05:37.092Z"
      },
      {
        "duration": 15,
        "start_time": "2022-12-08T19:05:37.121Z"
      },
      {
        "duration": 4,
        "start_time": "2022-12-08T19:05:37.137Z"
      },
      {
        "duration": 12,
        "start_time": "2022-12-08T19:05:37.142Z"
      },
      {
        "duration": 23,
        "start_time": "2022-12-08T19:05:37.155Z"
      },
      {
        "duration": 3,
        "start_time": "2022-12-08T19:05:37.180Z"
      },
      {
        "duration": 16,
        "start_time": "2022-12-08T19:05:37.184Z"
      },
      {
        "duration": 12,
        "start_time": "2022-12-08T19:05:37.201Z"
      },
      {
        "duration": 12,
        "start_time": "2022-12-08T19:05:37.214Z"
      },
      {
        "duration": 6,
        "start_time": "2022-12-08T19:05:37.227Z"
      },
      {
        "duration": 8,
        "start_time": "2022-12-08T19:05:37.234Z"
      },
      {
        "duration": 9,
        "start_time": "2022-12-08T19:06:08.922Z"
      },
      {
        "duration": 9,
        "start_time": "2022-12-08T19:06:40.738Z"
      },
      {
        "duration": 5,
        "start_time": "2022-12-08T19:23:46.562Z"
      },
      {
        "duration": 5,
        "start_time": "2022-12-08T19:34:19.570Z"
      },
      {
        "duration": 67,
        "start_time": "2022-12-08T19:37:35.196Z"
      },
      {
        "duration": 6,
        "start_time": "2022-12-08T19:37:47.280Z"
      },
      {
        "duration": 3,
        "start_time": "2022-12-08T19:38:12.015Z"
      },
      {
        "duration": 5,
        "start_time": "2022-12-08T19:38:47.681Z"
      },
      {
        "duration": 5,
        "start_time": "2022-12-08T19:42:22.799Z"
      },
      {
        "duration": 10,
        "start_time": "2022-12-08T19:47:19.540Z"
      },
      {
        "duration": 5,
        "start_time": "2022-12-08T19:47:49.000Z"
      },
      {
        "duration": 10,
        "start_time": "2022-12-08T19:48:42.548Z"
      },
      {
        "duration": 12,
        "start_time": "2022-12-08T19:48:50.497Z"
      },
      {
        "duration": 5,
        "start_time": "2022-12-08T19:49:10.912Z"
      },
      {
        "duration": 6,
        "start_time": "2022-12-08T19:52:59.637Z"
      },
      {
        "duration": 12,
        "start_time": "2022-12-08T19:55:13.625Z"
      },
      {
        "duration": 9,
        "start_time": "2022-12-08T19:55:40.365Z"
      },
      {
        "duration": 1110,
        "start_time": "2022-12-08T19:57:36.340Z"
      },
      {
        "duration": 1150,
        "start_time": "2022-12-08T19:57:47.319Z"
      },
      {
        "duration": 7,
        "start_time": "2022-12-08T20:00:15.565Z"
      },
      {
        "duration": 10,
        "start_time": "2022-12-08T20:01:04.494Z"
      },
      {
        "duration": 45,
        "start_time": "2022-12-08T20:01:34.146Z"
      },
      {
        "duration": 6,
        "start_time": "2022-12-08T20:03:04.657Z"
      },
      {
        "duration": 9,
        "start_time": "2022-12-08T20:04:30.108Z"
      },
      {
        "duration": 5,
        "start_time": "2022-12-08T20:05:26.540Z"
      },
      {
        "duration": 54,
        "start_time": "2022-12-09T22:05:55.239Z"
      },
      {
        "duration": 498,
        "start_time": "2022-12-09T22:06:08.031Z"
      },
      {
        "duration": 23,
        "start_time": "2022-12-09T22:06:08.532Z"
      },
      {
        "duration": 22,
        "start_time": "2022-12-09T22:06:08.561Z"
      },
      {
        "duration": 11,
        "start_time": "2022-12-09T22:06:08.585Z"
      },
      {
        "duration": 34,
        "start_time": "2022-12-09T22:06:08.598Z"
      },
      {
        "duration": 4,
        "start_time": "2022-12-09T22:06:08.634Z"
      },
      {
        "duration": 10,
        "start_time": "2022-12-09T22:06:08.640Z"
      },
      {
        "duration": 28,
        "start_time": "2022-12-09T22:06:08.651Z"
      },
      {
        "duration": 10,
        "start_time": "2022-12-09T22:06:08.682Z"
      },
      {
        "duration": 5,
        "start_time": "2022-12-09T22:06:08.694Z"
      },
      {
        "duration": 35,
        "start_time": "2022-12-09T22:06:08.701Z"
      },
      {
        "duration": 9,
        "start_time": "2022-12-09T22:06:08.737Z"
      },
      {
        "duration": 31,
        "start_time": "2022-12-09T22:06:08.747Z"
      },
      {
        "duration": 11,
        "start_time": "2022-12-09T22:06:08.780Z"
      },
      {
        "duration": 25,
        "start_time": "2022-12-09T22:06:08.792Z"
      },
      {
        "duration": 17,
        "start_time": "2022-12-09T22:06:08.819Z"
      },
      {
        "duration": 4,
        "start_time": "2022-12-09T22:06:08.838Z"
      },
      {
        "duration": 39,
        "start_time": "2022-12-09T22:06:08.844Z"
      },
      {
        "duration": 11,
        "start_time": "2022-12-09T22:06:08.885Z"
      },
      {
        "duration": 4,
        "start_time": "2022-12-09T22:06:08.898Z"
      },
      {
        "duration": 21,
        "start_time": "2022-12-09T22:06:08.904Z"
      },
      {
        "duration": 99,
        "start_time": "2022-12-09T22:06:08.928Z"
      },
      {
        "duration": 0,
        "start_time": "2022-12-09T22:06:09.029Z"
      },
      {
        "duration": 0,
        "start_time": "2022-12-09T22:06:09.030Z"
      },
      {
        "duration": 0,
        "start_time": "2022-12-09T22:06:09.032Z"
      },
      {
        "duration": 0,
        "start_time": "2022-12-09T22:06:09.033Z"
      },
      {
        "duration": 19,
        "start_time": "2022-12-09T22:06:24.035Z"
      },
      {
        "duration": 9,
        "start_time": "2022-12-09T22:07:16.494Z"
      },
      {
        "duration": 64,
        "start_time": "2022-12-09T22:17:42.992Z"
      },
      {
        "duration": 72,
        "start_time": "2022-12-09T22:17:50.009Z"
      },
      {
        "duration": 64,
        "start_time": "2022-12-09T22:18:05.794Z"
      },
      {
        "duration": 72,
        "start_time": "2022-12-09T22:18:13.624Z"
      },
      {
        "duration": 85,
        "start_time": "2022-12-09T22:18:23.292Z"
      },
      {
        "duration": 70,
        "start_time": "2022-12-09T22:18:33.773Z"
      },
      {
        "duration": 76,
        "start_time": "2022-12-09T22:18:48.411Z"
      },
      {
        "duration": 28,
        "start_time": "2022-12-09T22:19:01.806Z"
      },
      {
        "duration": 4,
        "start_time": "2022-12-09T22:24:38.948Z"
      },
      {
        "duration": 15,
        "start_time": "2022-12-09T22:27:01.111Z"
      },
      {
        "duration": 15,
        "start_time": "2022-12-09T22:29:09.276Z"
      },
      {
        "duration": 15,
        "start_time": "2022-12-09T22:29:19.743Z"
      },
      {
        "duration": 1110,
        "start_time": "2022-12-09T22:30:52.075Z"
      },
      {
        "duration": 8,
        "start_time": "2022-12-09T22:31:08.701Z"
      },
      {
        "duration": 19,
        "start_time": "2022-12-09T22:31:30.538Z"
      },
      {
        "duration": 9,
        "start_time": "2022-12-09T22:32:24.830Z"
      },
      {
        "duration": 11,
        "start_time": "2022-12-09T22:32:44.064Z"
      },
      {
        "duration": 5,
        "start_time": "2022-12-09T22:33:04.076Z"
      },
      {
        "duration": 18,
        "start_time": "2022-12-09T22:37:22.224Z"
      },
      {
        "duration": 6,
        "start_time": "2022-12-09T22:38:03.763Z"
      },
      {
        "duration": 14,
        "start_time": "2022-12-09T22:39:54.914Z"
      },
      {
        "duration": 7,
        "start_time": "2022-12-09T22:46:49.348Z"
      },
      {
        "duration": 17,
        "start_time": "2022-12-09T22:46:58.970Z"
      },
      {
        "duration": 14,
        "start_time": "2022-12-09T22:47:31.447Z"
      },
      {
        "duration": 15,
        "start_time": "2022-12-09T22:47:57.877Z"
      },
      {
        "duration": 69,
        "start_time": "2022-12-09T22:48:18.309Z"
      },
      {
        "duration": 31,
        "start_time": "2022-12-09T22:49:30.229Z"
      },
      {
        "duration": 11,
        "start_time": "2022-12-09T22:53:45.298Z"
      },
      {
        "duration": 433,
        "start_time": "2022-12-09T23:05:07.292Z"
      },
      {
        "duration": 21,
        "start_time": "2022-12-09T23:05:07.727Z"
      },
      {
        "duration": 14,
        "start_time": "2022-12-09T23:05:07.750Z"
      },
      {
        "duration": 19,
        "start_time": "2022-12-09T23:05:07.766Z"
      },
      {
        "duration": 31,
        "start_time": "2022-12-09T23:05:07.787Z"
      },
      {
        "duration": 3,
        "start_time": "2022-12-09T23:05:07.819Z"
      },
      {
        "duration": 10,
        "start_time": "2022-12-09T23:05:07.824Z"
      },
      {
        "duration": 6,
        "start_time": "2022-12-09T23:05:07.835Z"
      },
      {
        "duration": 12,
        "start_time": "2022-12-09T23:05:07.842Z"
      },
      {
        "duration": 22,
        "start_time": "2022-12-09T23:05:07.856Z"
      },
      {
        "duration": 29,
        "start_time": "2022-12-09T23:05:07.879Z"
      },
      {
        "duration": 8,
        "start_time": "2022-12-09T23:05:07.910Z"
      },
      {
        "duration": 9,
        "start_time": "2022-12-09T23:05:07.919Z"
      },
      {
        "duration": 16,
        "start_time": "2022-12-09T23:05:07.929Z"
      },
      {
        "duration": 32,
        "start_time": "2022-12-09T23:05:07.947Z"
      },
      {
        "duration": 16,
        "start_time": "2022-12-09T23:05:07.980Z"
      },
      {
        "duration": 3,
        "start_time": "2022-12-09T23:05:07.998Z"
      },
      {
        "duration": 12,
        "start_time": "2022-12-09T23:05:08.003Z"
      },
      {
        "duration": 10,
        "start_time": "2022-12-09T23:05:08.016Z"
      },
      {
        "duration": 5,
        "start_time": "2022-12-09T23:05:08.027Z"
      },
      {
        "duration": 11,
        "start_time": "2022-12-09T23:05:08.033Z"
      },
      {
        "duration": 53,
        "start_time": "2022-12-09T23:05:08.045Z"
      },
      {
        "duration": 70,
        "start_time": "2022-12-09T23:05:08.100Z"
      },
      {
        "duration": 0,
        "start_time": "2022-12-09T23:05:08.172Z"
      },
      {
        "duration": 0,
        "start_time": "2022-12-09T23:05:08.173Z"
      },
      {
        "duration": 28,
        "start_time": "2022-12-09T23:05:17.551Z"
      },
      {
        "duration": 11,
        "start_time": "2022-12-09T23:05:34.321Z"
      },
      {
        "duration": 69,
        "start_time": "2022-12-09T23:08:20.264Z"
      },
      {
        "duration": 3,
        "start_time": "2022-12-09T23:08:27.743Z"
      },
      {
        "duration": 74,
        "start_time": "2022-12-09T23:08:44.552Z"
      },
      {
        "duration": 11,
        "start_time": "2022-12-09T23:09:27.589Z"
      },
      {
        "duration": 65,
        "start_time": "2022-12-09T23:09:56.052Z"
      },
      {
        "duration": 18,
        "start_time": "2022-12-09T23:10:57.171Z"
      },
      {
        "duration": 20,
        "start_time": "2022-12-09T23:11:23.532Z"
      },
      {
        "duration": 20,
        "start_time": "2022-12-09T23:13:05.440Z"
      },
      {
        "duration": 17,
        "start_time": "2022-12-09T23:14:09.880Z"
      },
      {
        "duration": 18,
        "start_time": "2022-12-09T23:18:47.571Z"
      },
      {
        "duration": 15,
        "start_time": "2022-12-09T23:21:49.222Z"
      },
      {
        "duration": 8,
        "start_time": "2022-12-09T23:24:38.875Z"
      },
      {
        "duration": 11,
        "start_time": "2022-12-09T23:24:55.523Z"
      },
      {
        "duration": 53,
        "start_time": "2022-12-10T17:24:02.469Z"
      },
      {
        "duration": 580,
        "start_time": "2022-12-10T17:24:08.468Z"
      },
      {
        "duration": 28,
        "start_time": "2022-12-10T17:24:09.050Z"
      },
      {
        "duration": 19,
        "start_time": "2022-12-10T17:24:09.082Z"
      },
      {
        "duration": 10,
        "start_time": "2022-12-10T17:24:09.104Z"
      },
      {
        "duration": 70,
        "start_time": "2022-12-10T17:24:09.116Z"
      },
      {
        "duration": 4,
        "start_time": "2022-12-10T17:24:09.188Z"
      },
      {
        "duration": 14,
        "start_time": "2022-12-10T17:24:09.194Z"
      },
      {
        "duration": 5,
        "start_time": "2022-12-10T17:24:09.209Z"
      },
      {
        "duration": 8,
        "start_time": "2022-12-10T17:24:09.217Z"
      },
      {
        "duration": 25,
        "start_time": "2022-12-10T17:24:09.251Z"
      },
      {
        "duration": 47,
        "start_time": "2022-12-10T17:24:09.278Z"
      },
      {
        "duration": 12,
        "start_time": "2022-12-10T17:24:09.327Z"
      },
      {
        "duration": 5,
        "start_time": "2022-12-10T17:24:09.341Z"
      },
      {
        "duration": 27,
        "start_time": "2022-12-10T17:24:09.348Z"
      },
      {
        "duration": 36,
        "start_time": "2022-12-10T17:24:09.377Z"
      },
      {
        "duration": 20,
        "start_time": "2022-12-10T17:24:09.415Z"
      },
      {
        "duration": 5,
        "start_time": "2022-12-10T17:24:09.437Z"
      },
      {
        "duration": 17,
        "start_time": "2022-12-10T17:24:09.452Z"
      },
      {
        "duration": 8,
        "start_time": "2022-12-10T17:24:09.471Z"
      },
      {
        "duration": 5,
        "start_time": "2022-12-10T17:24:09.482Z"
      },
      {
        "duration": 15,
        "start_time": "2022-12-10T17:24:09.489Z"
      },
      {
        "duration": 68,
        "start_time": "2022-12-10T17:24:09.506Z"
      },
      {
        "duration": 17,
        "start_time": "2022-12-10T17:24:09.576Z"
      },
      {
        "duration": 18,
        "start_time": "2022-12-10T17:24:09.595Z"
      },
      {
        "duration": 53,
        "start_time": "2022-12-10T17:24:09.615Z"
      },
      {
        "duration": 18,
        "start_time": "2022-12-10T17:24:09.670Z"
      },
      {
        "duration": 504,
        "start_time": "2022-12-10T19:07:25.165Z"
      },
      {
        "duration": 26,
        "start_time": "2022-12-10T19:07:25.671Z"
      },
      {
        "duration": 19,
        "start_time": "2022-12-10T19:07:25.699Z"
      },
      {
        "duration": 15,
        "start_time": "2022-12-10T19:07:25.720Z"
      },
      {
        "duration": 60,
        "start_time": "2022-12-10T19:07:25.737Z"
      },
      {
        "duration": 4,
        "start_time": "2022-12-10T19:07:25.799Z"
      },
      {
        "duration": 16,
        "start_time": "2022-12-10T19:07:25.804Z"
      },
      {
        "duration": 6,
        "start_time": "2022-12-10T19:07:25.822Z"
      },
      {
        "duration": 12,
        "start_time": "2022-12-10T19:07:25.830Z"
      },
      {
        "duration": 5,
        "start_time": "2022-12-10T19:07:25.847Z"
      },
      {
        "duration": 58,
        "start_time": "2022-12-10T19:07:25.854Z"
      },
      {
        "duration": 11,
        "start_time": "2022-12-10T19:07:25.914Z"
      },
      {
        "duration": 18,
        "start_time": "2022-12-10T19:07:25.926Z"
      },
      {
        "duration": 27,
        "start_time": "2022-12-10T19:07:25.946Z"
      },
      {
        "duration": 33,
        "start_time": "2022-12-10T19:07:25.975Z"
      },
      {
        "duration": 17,
        "start_time": "2022-12-10T19:07:26.010Z"
      },
      {
        "duration": 5,
        "start_time": "2022-12-10T19:07:26.028Z"
      },
      {
        "duration": 22,
        "start_time": "2022-12-10T19:07:26.035Z"
      },
      {
        "duration": 24,
        "start_time": "2022-12-10T19:07:26.058Z"
      },
      {
        "duration": 30,
        "start_time": "2022-12-10T19:07:26.084Z"
      },
      {
        "duration": 21,
        "start_time": "2022-12-10T19:07:26.116Z"
      },
      {
        "duration": 45,
        "start_time": "2022-12-10T19:07:26.139Z"
      },
      {
        "duration": 13,
        "start_time": "2022-12-10T19:07:26.185Z"
      },
      {
        "duration": 18,
        "start_time": "2022-12-10T19:07:26.200Z"
      },
      {
        "duration": 33,
        "start_time": "2022-12-10T19:07:26.219Z"
      },
      {
        "duration": 28,
        "start_time": "2022-12-10T19:07:26.253Z"
      },
      {
        "duration": 52,
        "start_time": "2022-12-10T20:51:24.891Z"
      },
      {
        "duration": 491,
        "start_time": "2022-12-10T20:51:31.095Z"
      },
      {
        "duration": 23,
        "start_time": "2022-12-10T20:51:31.588Z"
      },
      {
        "duration": 25,
        "start_time": "2022-12-10T20:51:31.614Z"
      },
      {
        "duration": 9,
        "start_time": "2022-12-10T20:51:31.641Z"
      },
      {
        "duration": 31,
        "start_time": "2022-12-10T20:51:31.652Z"
      },
      {
        "duration": 3,
        "start_time": "2022-12-10T20:51:31.685Z"
      },
      {
        "duration": 11,
        "start_time": "2022-12-10T20:51:31.689Z"
      },
      {
        "duration": 25,
        "start_time": "2022-12-10T20:51:31.701Z"
      },
      {
        "duration": 7,
        "start_time": "2022-12-10T20:51:31.728Z"
      },
      {
        "duration": 4,
        "start_time": "2022-12-10T20:51:31.738Z"
      },
      {
        "duration": 37,
        "start_time": "2022-12-10T20:51:31.743Z"
      },
      {
        "duration": 8,
        "start_time": "2022-12-10T20:51:31.782Z"
      },
      {
        "duration": 9,
        "start_time": "2022-12-10T20:51:31.791Z"
      },
      {
        "duration": 11,
        "start_time": "2022-12-10T20:51:31.824Z"
      },
      {
        "duration": 22,
        "start_time": "2022-12-10T20:51:31.836Z"
      },
      {
        "duration": 16,
        "start_time": "2022-12-10T20:51:31.860Z"
      },
      {
        "duration": 4,
        "start_time": "2022-12-10T20:51:31.877Z"
      },
      {
        "duration": 11,
        "start_time": "2022-12-10T20:51:31.882Z"
      },
      {
        "duration": 29,
        "start_time": "2022-12-10T20:51:31.895Z"
      },
      {
        "duration": 4,
        "start_time": "2022-12-10T20:51:31.926Z"
      },
      {
        "duration": 13,
        "start_time": "2022-12-10T20:51:31.932Z"
      },
      {
        "duration": 42,
        "start_time": "2022-12-10T20:51:31.946Z"
      },
      {
        "duration": 37,
        "start_time": "2022-12-10T20:51:31.990Z"
      },
      {
        "duration": 11,
        "start_time": "2022-12-10T20:51:32.029Z"
      },
      {
        "duration": 19,
        "start_time": "2022-12-10T20:51:32.042Z"
      },
      {
        "duration": 12,
        "start_time": "2022-12-10T20:51:32.063Z"
      },
      {
        "duration": 103,
        "start_time": "2022-12-10T20:58:05.504Z"
      },
      {
        "duration": 76,
        "start_time": "2022-12-10T20:58:36.135Z"
      },
      {
        "duration": 97,
        "start_time": "2022-12-10T20:59:07.030Z"
      },
      {
        "duration": 79,
        "start_time": "2022-12-10T21:00:00.213Z"
      },
      {
        "duration": 79,
        "start_time": "2022-12-10T21:00:06.726Z"
      },
      {
        "duration": 79,
        "start_time": "2022-12-10T21:00:14.047Z"
      },
      {
        "duration": 72,
        "start_time": "2022-12-10T21:00:25.832Z"
      },
      {
        "duration": 71,
        "start_time": "2022-12-10T21:00:50.131Z"
      },
      {
        "duration": 71,
        "start_time": "2022-12-10T21:02:02.334Z"
      },
      {
        "duration": 462,
        "start_time": "2022-12-10T21:02:13.065Z"
      },
      {
        "duration": 27,
        "start_time": "2022-12-10T21:02:13.529Z"
      },
      {
        "duration": 15,
        "start_time": "2022-12-10T21:02:13.558Z"
      },
      {
        "duration": 9,
        "start_time": "2022-12-10T21:02:13.575Z"
      },
      {
        "duration": 51,
        "start_time": "2022-12-10T21:02:13.586Z"
      },
      {
        "duration": 4,
        "start_time": "2022-12-10T21:02:13.639Z"
      },
      {
        "duration": 10,
        "start_time": "2022-12-10T21:02:13.644Z"
      },
      {
        "duration": 4,
        "start_time": "2022-12-10T21:02:13.655Z"
      },
      {
        "duration": 9,
        "start_time": "2022-12-10T21:02:13.660Z"
      },
      {
        "duration": 4,
        "start_time": "2022-12-10T21:02:13.672Z"
      },
      {
        "duration": 66,
        "start_time": "2022-12-10T21:02:13.677Z"
      },
      {
        "duration": 10,
        "start_time": "2022-12-10T21:02:13.744Z"
      },
      {
        "duration": 4,
        "start_time": "2022-12-10T21:02:13.755Z"
      },
      {
        "duration": 13,
        "start_time": "2022-12-10T21:02:13.760Z"
      },
      {
        "duration": 24,
        "start_time": "2022-12-10T21:02:13.774Z"
      },
      {
        "duration": 33,
        "start_time": "2022-12-10T21:02:13.799Z"
      },
      {
        "duration": 4,
        "start_time": "2022-12-10T21:02:13.833Z"
      },
      {
        "duration": 12,
        "start_time": "2022-12-10T21:02:13.838Z"
      },
      {
        "duration": 5,
        "start_time": "2022-12-10T21:02:13.852Z"
      },
      {
        "duration": 5,
        "start_time": "2022-12-10T21:02:13.858Z"
      },
      {
        "duration": 11,
        "start_time": "2022-12-10T21:02:13.865Z"
      },
      {
        "duration": 67,
        "start_time": "2022-12-10T21:02:13.877Z"
      },
      {
        "duration": 32,
        "start_time": "2022-12-10T21:02:13.946Z"
      },
      {
        "duration": 79,
        "start_time": "2022-12-10T21:02:13.980Z"
      },
      {
        "duration": 0,
        "start_time": "2022-12-10T21:02:14.060Z"
      },
      {
        "duration": 0,
        "start_time": "2022-12-10T21:02:14.061Z"
      },
      {
        "duration": 0,
        "start_time": "2022-12-10T21:02:14.063Z"
      },
      {
        "duration": 76,
        "start_time": "2022-12-10T21:02:24.551Z"
      },
      {
        "duration": 80,
        "start_time": "2022-12-10T21:02:43.088Z"
      },
      {
        "duration": 74,
        "start_time": "2022-12-10T21:02:57.254Z"
      },
      {
        "duration": 68,
        "start_time": "2022-12-10T21:03:14.026Z"
      },
      {
        "duration": 77,
        "start_time": "2022-12-10T21:03:19.702Z"
      },
      {
        "duration": 20,
        "start_time": "2022-12-10T21:07:11.686Z"
      },
      {
        "duration": 66,
        "start_time": "2022-12-10T21:13:59.105Z"
      },
      {
        "duration": 24,
        "start_time": "2022-12-10T21:14:38.503Z"
      },
      {
        "duration": 12,
        "start_time": "2022-12-10T21:17:53.955Z"
      },
      {
        "duration": 447,
        "start_time": "2022-12-10T22:08:27.534Z"
      },
      {
        "duration": 21,
        "start_time": "2022-12-10T22:08:27.983Z"
      },
      {
        "duration": 14,
        "start_time": "2022-12-10T22:08:28.005Z"
      },
      {
        "duration": 8,
        "start_time": "2022-12-10T22:08:28.020Z"
      },
      {
        "duration": 30,
        "start_time": "2022-12-10T22:08:28.030Z"
      },
      {
        "duration": 3,
        "start_time": "2022-12-10T22:08:28.062Z"
      },
      {
        "duration": 32,
        "start_time": "2022-12-10T22:08:28.066Z"
      },
      {
        "duration": 4,
        "start_time": "2022-12-10T22:08:28.100Z"
      },
      {
        "duration": 10,
        "start_time": "2022-12-10T22:08:28.105Z"
      },
      {
        "duration": 4,
        "start_time": "2022-12-10T22:08:28.117Z"
      },
      {
        "duration": 38,
        "start_time": "2022-12-10T22:08:28.123Z"
      },
      {
        "duration": 9,
        "start_time": "2022-12-10T22:08:28.162Z"
      },
      {
        "duration": 24,
        "start_time": "2022-12-10T22:08:28.172Z"
      },
      {
        "duration": 11,
        "start_time": "2022-12-10T22:08:28.198Z"
      },
      {
        "duration": 28,
        "start_time": "2022-12-10T22:08:28.210Z"
      },
      {
        "duration": 17,
        "start_time": "2022-12-10T22:08:28.240Z"
      },
      {
        "duration": 4,
        "start_time": "2022-12-10T22:08:28.259Z"
      },
      {
        "duration": 12,
        "start_time": "2022-12-10T22:08:28.265Z"
      },
      {
        "duration": 23,
        "start_time": "2022-12-10T22:08:28.278Z"
      },
      {
        "duration": 4,
        "start_time": "2022-12-10T22:08:28.302Z"
      },
      {
        "duration": 16,
        "start_time": "2022-12-10T22:08:28.308Z"
      },
      {
        "duration": 33,
        "start_time": "2022-12-10T22:08:28.326Z"
      },
      {
        "duration": 39,
        "start_time": "2022-12-10T22:08:28.360Z"
      },
      {
        "duration": 10,
        "start_time": "2022-12-10T22:08:28.401Z"
      },
      {
        "duration": 17,
        "start_time": "2022-12-10T22:08:28.412Z"
      },
      {
        "duration": 10,
        "start_time": "2022-12-10T22:08:28.430Z"
      },
      {
        "duration": 483,
        "start_time": "2022-12-11T19:29:20.074Z"
      },
      {
        "duration": 35,
        "start_time": "2022-12-11T19:29:20.561Z"
      },
      {
        "duration": 17,
        "start_time": "2022-12-11T19:29:20.598Z"
      },
      {
        "duration": 23,
        "start_time": "2022-12-11T19:29:20.618Z"
      },
      {
        "duration": 50,
        "start_time": "2022-12-11T19:29:20.643Z"
      },
      {
        "duration": 4,
        "start_time": "2022-12-11T19:29:20.695Z"
      },
      {
        "duration": 18,
        "start_time": "2022-12-11T19:29:20.701Z"
      },
      {
        "duration": 14,
        "start_time": "2022-12-11T19:29:20.721Z"
      },
      {
        "duration": 15,
        "start_time": "2022-12-11T19:29:20.737Z"
      },
      {
        "duration": 5,
        "start_time": "2022-12-11T19:29:20.756Z"
      },
      {
        "duration": 48,
        "start_time": "2022-12-11T19:29:20.763Z"
      },
      {
        "duration": 23,
        "start_time": "2022-12-11T19:29:20.813Z"
      },
      {
        "duration": 4,
        "start_time": "2022-12-11T19:29:20.838Z"
      },
      {
        "duration": 15,
        "start_time": "2022-12-11T19:29:20.844Z"
      },
      {
        "duration": 26,
        "start_time": "2022-12-11T19:29:20.860Z"
      },
      {
        "duration": 47,
        "start_time": "2022-12-11T19:29:20.888Z"
      },
      {
        "duration": 4,
        "start_time": "2022-12-11T19:29:20.937Z"
      },
      {
        "duration": 14,
        "start_time": "2022-12-11T19:29:20.943Z"
      },
      {
        "duration": 15,
        "start_time": "2022-12-11T19:29:20.959Z"
      },
      {
        "duration": 9,
        "start_time": "2022-12-11T19:29:20.975Z"
      },
      {
        "duration": 15,
        "start_time": "2022-12-11T19:29:20.986Z"
      },
      {
        "duration": 61,
        "start_time": "2022-12-11T19:29:21.002Z"
      },
      {
        "duration": 28,
        "start_time": "2022-12-11T19:29:21.065Z"
      },
      {
        "duration": 12,
        "start_time": "2022-12-11T19:29:21.095Z"
      },
      {
        "duration": 44,
        "start_time": "2022-12-11T19:29:21.109Z"
      },
      {
        "duration": 14,
        "start_time": "2022-12-11T19:29:21.155Z"
      },
      {
        "duration": 1131,
        "start_time": "2022-12-12T15:09:27.691Z"
      },
      {
        "duration": 25,
        "start_time": "2022-12-12T15:09:28.824Z"
      },
      {
        "duration": 17,
        "start_time": "2022-12-12T15:09:28.850Z"
      },
      {
        "duration": 41,
        "start_time": "2022-12-12T15:09:28.870Z"
      },
      {
        "duration": 43,
        "start_time": "2022-12-12T15:09:28.913Z"
      },
      {
        "duration": 3,
        "start_time": "2022-12-12T15:09:28.958Z"
      },
      {
        "duration": 24,
        "start_time": "2022-12-12T15:09:28.963Z"
      },
      {
        "duration": 12,
        "start_time": "2022-12-12T15:09:28.989Z"
      },
      {
        "duration": 15,
        "start_time": "2022-12-12T15:09:29.003Z"
      },
      {
        "duration": 5,
        "start_time": "2022-12-12T15:09:29.022Z"
      },
      {
        "duration": 69,
        "start_time": "2022-12-12T15:09:29.029Z"
      },
      {
        "duration": 11,
        "start_time": "2022-12-12T15:09:29.100Z"
      },
      {
        "duration": 14,
        "start_time": "2022-12-12T15:09:29.112Z"
      },
      {
        "duration": 20,
        "start_time": "2022-12-12T15:09:29.128Z"
      },
      {
        "duration": 30,
        "start_time": "2022-12-12T15:09:29.150Z"
      },
      {
        "duration": 20,
        "start_time": "2022-12-12T15:09:29.182Z"
      },
      {
        "duration": 4,
        "start_time": "2022-12-12T15:09:29.204Z"
      },
      {
        "duration": 21,
        "start_time": "2022-12-12T15:09:29.210Z"
      },
      {
        "duration": 8,
        "start_time": "2022-12-12T15:09:29.233Z"
      },
      {
        "duration": 40,
        "start_time": "2022-12-12T15:09:29.243Z"
      },
      {
        "duration": 14,
        "start_time": "2022-12-12T15:09:29.285Z"
      },
      {
        "duration": 46,
        "start_time": "2022-12-12T15:09:29.302Z"
      },
      {
        "duration": 50,
        "start_time": "2022-12-12T15:09:29.350Z"
      },
      {
        "duration": 16,
        "start_time": "2022-12-12T15:09:29.402Z"
      },
      {
        "duration": 25,
        "start_time": "2022-12-12T15:09:29.420Z"
      },
      {
        "duration": 41,
        "start_time": "2022-12-12T15:09:29.447Z"
      },
      {
        "duration": 847,
        "start_time": "2023-09-01T08:16:03.775Z"
      },
      {
        "duration": 22,
        "start_time": "2023-09-01T08:16:04.624Z"
      },
      {
        "duration": 36,
        "start_time": "2023-09-01T08:16:04.652Z"
      },
      {
        "duration": 24,
        "start_time": "2023-09-01T08:16:04.690Z"
      },
      {
        "duration": 77,
        "start_time": "2023-09-01T08:16:04.715Z"
      },
      {
        "duration": 5,
        "start_time": "2023-09-01T08:16:04.795Z"
      },
      {
        "duration": 45,
        "start_time": "2023-09-01T08:16:04.802Z"
      },
      {
        "duration": 12,
        "start_time": "2023-09-01T08:16:04.848Z"
      },
      {
        "duration": 12,
        "start_time": "2023-09-01T08:16:04.861Z"
      },
      {
        "duration": 21,
        "start_time": "2023-09-01T08:16:04.876Z"
      },
      {
        "duration": 32,
        "start_time": "2023-09-01T08:16:04.900Z"
      },
      {
        "duration": 9,
        "start_time": "2023-09-01T08:16:04.933Z"
      },
      {
        "duration": 31,
        "start_time": "2023-09-01T08:16:04.943Z"
      },
      {
        "duration": 34,
        "start_time": "2023-09-01T08:16:04.976Z"
      },
      {
        "duration": 61,
        "start_time": "2023-09-01T08:16:05.012Z"
      },
      {
        "duration": 27,
        "start_time": "2023-09-01T08:16:05.078Z"
      },
      {
        "duration": 4,
        "start_time": "2023-09-01T08:16:05.107Z"
      },
      {
        "duration": 29,
        "start_time": "2023-09-01T08:16:05.112Z"
      },
      {
        "duration": 29,
        "start_time": "2023-09-01T08:16:05.143Z"
      },
      {
        "duration": 20,
        "start_time": "2023-09-01T08:16:05.174Z"
      },
      {
        "duration": 13,
        "start_time": "2023-09-01T08:16:05.195Z"
      },
      {
        "duration": 48,
        "start_time": "2023-09-01T08:16:05.210Z"
      },
      {
        "duration": 37,
        "start_time": "2023-09-01T08:16:05.270Z"
      },
      {
        "duration": 10,
        "start_time": "2023-09-01T08:16:05.309Z"
      },
      {
        "duration": 16,
        "start_time": "2023-09-01T08:16:05.320Z"
      },
      {
        "duration": 10,
        "start_time": "2023-09-01T08:16:05.338Z"
      }
    ],
    "colab": {
      "provenance": [],
      "toc_visible": true,
      "include_colab_link": true
    },
    "kernelspec": {
      "display_name": "Python 3 (ipykernel)",
      "language": "python",
      "name": "python3"
    },
    "language_info": {
      "codemirror_mode": {
        "name": "ipython",
        "version": 3
      },
      "file_extension": ".py",
      "mimetype": "text/x-python",
      "name": "python",
      "nbconvert_exporter": "python",
      "pygments_lexer": "ipython3",
      "version": "3.9.5"
    },
    "toc": {
      "base_numbering": 1,
      "nav_menu": {},
      "number_sections": true,
      "sideBar": true,
      "skip_h1_title": true,
      "title_cell": "Table of Contents",
      "title_sidebar": "Contents",
      "toc_cell": false,
      "toc_position": {},
      "toc_section_display": true,
      "toc_window_display": true
    }
  },
  "nbformat": 4,
  "nbformat_minor": 5
}