{
  "cells": [
    {
      "cell_type": "markdown",
      "metadata": {
        "id": "view-in-github",
        "colab_type": "text"
      },
      "source": [
        "<a href=\"https://colab.research.google.com/github/Anastasia-Lyashuk/Portfolio/blob/main/yandex_music_project.ipynb\" target=\"_parent\"><img src=\"https://colab.research.google.com/assets/colab-badge.svg\" alt=\"Open In Colab\"/></a>"
      ]
    },
    {
      "cell_type": "markdown",
      "metadata": {
        "deletable": false,
        "editable": false,
        "id": "Ml1hmfXC_Zcs"
      },
      "source": [
        "## 1. Обзор данных\n",
        "\n",
        "\n"
      ]
    },
    {
      "cell_type": "markdown",
      "metadata": {
        "deletable": false,
        "editable": false,
        "id": "57eAOGIz_Zcs",
        "tags": [
          "start_task"
        ]
      },
      "source": [
        "### 1.1.Импорт библиотеки pandas"
      ]
    },
    {
      "cell_type": "code",
      "execution_count": null,
      "metadata": {
        "deletable": false,
        "id": "AXN7PHPN_Zcs"
      },
      "outputs": [],
      "source": [
        "import pandas as pd # импорт библиотеки pandas"
      ]
    },
    {
      "cell_type": "markdown",
      "metadata": {
        "deletable": false,
        "editable": false,
        "id": "SG23P8tt_Zcs",
        "tags": [
          "start_task"
        ]
      },
      "source": [
        "### 1.2. Загрузим данные из CSV-файлов в переменную df"
      ]
    },
    {
      "cell_type": "code",
      "source": [
        "df = pd.read_csv('/datasets/yandex_music_project.csv') # чтение файла с данными и сохранение в df"
      ],
      "metadata": {
        "id": "5HHi7sRZKcGG"
      },
      "execution_count": null,
      "outputs": []
    },
    {
      "cell_type": "markdown",
      "metadata": {
        "deletable": false,
        "editable": false,
        "id": "rDoOMd3uTqnZ",
        "tags": [
          "start_task"
        ]
      },
      "source": [
        "### 1.3. Выведем на экран первые десять строк таблицы"
      ]
    },
    {
      "cell_type": "code",
      "execution_count": null,
      "metadata": {
        "deletable": false,
        "id": "oWTVX3gW_Zct",
        "scrolled": true
      },
      "outputs": [],
      "source": [
        "print(df.head(10))# получение первых 10 строк таблицы df"
      ]
    },
    {
      "cell_type": "markdown",
      "metadata": {
        "deletable": false,
        "editable": false,
        "id": "EO73Kwic_Zct",
        "tags": [
          "start_task"
        ]
      },
      "source": [
        "### 1.4. Изучим данные в датафрейме"
      ]
    },
    {
      "cell_type": "code",
      "execution_count": null,
      "metadata": {
        "deletable": false,
        "id": "DSf2kIb-_Zct"
      },
      "outputs": [],
      "source": [
        "df.info() # получение общей информации о данных в таблице df"
      ]
    },
    {
      "cell_type": "markdown",
      "metadata": {
        "deletable": false,
        "editable": false,
        "id": "SjYF6Ub9_Zct"
      },
      "source": [
        "## 2. Предобработка данных\n"
      ]
    },
    {
      "cell_type": "markdown",
      "metadata": {
        "deletable": false,
        "editable": false,
        "id": "dIaKXr29_Zct",
        "tags": [
          "start_task"
        ]
      },
      "source": [
        "### 2.1. Стиль заголовков\n"
      ]
    },
    {
      "cell_type": "code",
      "execution_count": null,
      "metadata": {
        "deletable": false,
        "id": "oKOTdF_Q_Zct"
      },
      "outputs": [],
      "source": [
        "print(df.columns)# перечень названий столбцов таблицы df"
      ]
    },
    {
      "cell_type": "code",
      "execution_count": null,
      "metadata": {
        "deletable": false,
        "id": "ISlFqs5y_Zct"
      },
      "outputs": [],
      "source": [
        "df = df.rename(columns={'  userID':'user_id','Track':'track','  City  ':'city','Day':'day'}) # переименование столбцов"
      ]
    },
    {
      "cell_type": "code",
      "execution_count": null,
      "metadata": {
        "deletable": false,
        "id": "d4NOAmTW_Zct"
      },
      "outputs": [],
      "source": [
        "print(df.columns) # проверка результатов - перечень названий столбцов"
      ]
    },
    {
      "cell_type": "markdown",
      "metadata": {
        "deletable": false,
        "editable": false,
        "id": "5ISfbcfY_Zct",
        "tags": [
          "start_task"
        ]
      },
      "source": [
        "### 2.2. Пропуски значений\n"
      ]
    },
    {
      "cell_type": "code",
      "execution_count": null,
      "metadata": {
        "deletable": false,
        "id": "RskX29qr_Zct"
      },
      "outputs": [],
      "source": [
        "print(df.isna().sum()) # подсчёт пропусков"
      ]
    },
    {
      "cell_type": "code",
      "execution_count": null,
      "metadata": {
        "deletable": false,
        "id": "KplB5qWs_Zct"
      },
      "outputs": [],
      "source": [
        "columns_to_replace = df[['track', 'artist', 'genre']]\n",
        "for column in columns_to_replace:\n",
        "    df[column] = df[column].fillna('unknown')\n",
        "# перебор названий столбцов в цикле и замена пропущенных значений на 'unknown'"
      ]
    },
    {
      "cell_type": "code",
      "execution_count": null,
      "metadata": {
        "deletable": false,
        "id": "Tq4nYRX4_Zct"
      },
      "outputs": [],
      "source": [
        "print(df.isna().sum()) # подсчёт пропусков"
      ]
    },
    {
      "cell_type": "markdown",
      "metadata": {
        "deletable": false,
        "editable": false,
        "id": "BWKRtBJ3_Zct",
        "tags": [
          "start_task"
        ]
      },
      "source": [
        "### 2.3. Дубликаты\n"
      ]
    },
    {
      "cell_type": "code",
      "execution_count": null,
      "metadata": {
        "deletable": false,
        "id": "36eES_S0_Zct"
      },
      "outputs": [],
      "source": [
        "print(df.duplicated().sum()) # подсчёт явных дубликатов"
      ]
    },
    {
      "cell_type": "code",
      "execution_count": null,
      "metadata": {
        "deletable": false,
        "id": "exFHq6tt_Zct"
      },
      "outputs": [],
      "source": [
        "df = df.drop_duplicates() # удаление явных дубликатов"
      ]
    },
    {
      "cell_type": "code",
      "execution_count": null,
      "metadata": {
        "deletable": false,
        "id": "-8PuNWQ0_Zct"
      },
      "outputs": [],
      "source": [
        "print(df.duplicated().sum()) # проверка на отсутствие дубликатов"
      ]
    },
    {
      "cell_type": "code",
      "execution_count": null,
      "metadata": {
        "deletable": false,
        "id": "JIUcqzZN_Zct"
      },
      "outputs": [],
      "source": [
        "genre_sort = df.sort_values('genre')\n",
        "\n",
        "print(genre_sort['genre'].unique())\n",
        "\n",
        "# Просмотр уникальных названий жанров"
      ]
    },
    {
      "cell_type": "code",
      "execution_count": null,
      "metadata": {
        "deletable": false,
        "id": "ErNDkmns_Zct"
      },
      "outputs": [],
      "source": [
        "duplicates = ['hip','hop','hip-hop']\n",
        "name = 'hiphop'\n",
        "df['genre'] = df['genre'].replace(duplicates,name)\n",
        "    # Устранение неявных дубликатов"
      ]
    },
    {
      "cell_type": "code",
      "execution_count": null,
      "metadata": {
        "deletable": false,
        "id": "wvixALnFG15m"
      },
      "outputs": [],
      "source": [
        "genre_sort = df.sort_values('genre')\n",
        "\n",
        "print(genre_sort['genre'].unique())\n",
        "# Проверка на неявные дубликаты"
      ]
    },
    {
      "cell_type": "markdown",
      "metadata": {
        "deletable": false,
        "editable": false,
        "id": "WttZHXH0SqKk"
      },
      "source": [
        "## 3. Проверка гипотез"
      ]
    },
    {
      "cell_type": "markdown",
      "metadata": {
        "deletable": false,
        "editable": false,
        "id": "Im936VVi_Zcu"
      },
      "source": [
        "### 3.1. Сравнение поведения пользователей двух столиц"
      ]
    },
    {
      "cell_type": "markdown",
      "source": [
        "Первая гипотеза утверждает, что пользователи по-разному слушают музыку в Москве и Санкт-Петербурге. Проверим это предположение по данным о трёх днях недели — понедельнике, среде и пятнице.\n"
      ],
      "metadata": {
        "id": "k_Il4mO3xuFA"
      }
    },
    {
      "cell_type": "code",
      "execution_count": null,
      "metadata": {
        "deletable": false,
        "id": "0_Qs96oh_Zcu"
      },
      "outputs": [],
      "source": [
        "track_grouping = df.groupby('city')['time']\n",
        "track_grouping = track_grouping.count()\n",
        "print(track_grouping)\n",
        "# Подсчёт прослушиваний в каждом городе"
      ]
    },
    {
      "cell_type": "markdown",
      "metadata": {
        "deletable": false,
        "editable": false,
        "id": "dzli3w8o_Zcu",
        "tags": [
          "start_task"
        ]
      },
      "source": [
        "В Москве прослушиваний больше, чем в Петербурге. Из этого не следует, что московские пользователи чаще слушают музыку. Просто самих пользователей в Москве больше.\n",
        "\n"
      ]
    },
    {
      "cell_type": "code",
      "execution_count": null,
      "metadata": {
        "deletable": false,
        "id": "uZMKjiJz_Zcu"
      },
      "outputs": [],
      "source": [
        "track_grouping_day = df.groupby('day')['time']\n",
        "track_grouping_day = track_grouping_day.count()\n",
        "print(track_grouping_day)\n",
        "# Подсчёт прослушиваний в каждый из трёх дней"
      ]
    },
    {
      "cell_type": "markdown",
      "metadata": {
        "deletable": false,
        "editable": false,
        "id": "cC2tNrlL_Zcu"
      },
      "source": [
        "В среднем пользователи из двух городов менее активны по средам. Но картина может измениться, если рассмотреть каждый город в отдельности."
      ]
    },
    {
      "cell_type": "code",
      "execution_count": null,
      "metadata": {
        "deletable": false,
        "id": "Nz3GdQB1_Zcu"
      },
      "outputs": [],
      "source": [
        "def number_tracks(day, city):\n",
        "    track_list = df[df['day'] == day]\n",
        "    track_list = track_list[track_list['city'] == city]\n",
        "    track_list_count = track_list['user_id'].count()\n",
        "    return track_list_count\n",
        "\n",
        "\n",
        "\n",
        "# <создание функции number_tracks()>\n",
        "# Функция для подсчёта прослушиваний для конкретного города и дня."
      ]
    },
    {
      "cell_type": "code",
      "execution_count": null,
      "metadata": {
        "deletable": false,
        "id": "rJcRATNQ_Zcu"
      },
      "outputs": [],
      "source": [
        "print(number_tracks('Monday','Moscow')) # количество прослушиваний в Москве по понедельникам"
      ]
    },
    {
      "cell_type": "code",
      "execution_count": null,
      "metadata": {
        "deletable": false,
        "id": "hq_ncZ5T_Zcu"
      },
      "outputs": [],
      "source": [
        "print(number_tracks('Monday', 'Saint-Petersburg'))# количество прослушиваний в Санкт-Петербурге по понедельникам"
      ]
    },
    {
      "cell_type": "code",
      "execution_count": null,
      "metadata": {
        "deletable": false,
        "id": "_NTy2VPU_Zcu"
      },
      "outputs": [],
      "source": [
        "print(number_tracks('Wednesday','Moscow')) # количество прослушиваний в Москве по средам"
      ]
    },
    {
      "cell_type": "code",
      "execution_count": null,
      "metadata": {
        "deletable": false,
        "id": "j2y3TAwo_Zcu"
      },
      "outputs": [],
      "source": [
        "print(number_tracks('Wednesday','Saint-Petersburg'))# количество прослушиваний в Санкт-Петербурге по средам"
      ]
    },
    {
      "cell_type": "code",
      "execution_count": null,
      "metadata": {
        "deletable": false,
        "id": "vYDw5u_K_Zcu"
      },
      "outputs": [],
      "source": [
        "print(number_tracks('Friday','Moscow'))# количество прослушиваний в Москве по пятницам"
      ]
    },
    {
      "cell_type": "code",
      "execution_count": null,
      "metadata": {
        "deletable": false,
        "id": "8_yzFtW3_Zcu"
      },
      "outputs": [],
      "source": [
        "print(number_tracks('Friday','Saint-Petersburg')) # количество прослушиваний в Санкт-Петербурге по пятницам"
      ]
    },
    {
      "cell_type": "code",
      "execution_count": null,
      "metadata": {
        "deletable": false,
        "id": "APAcLpOr_Zcu"
      },
      "outputs": [],
      "source": [
        "data = [['Москва', 15740, 11056, 15945],['Санкт-Петербург', 5614, 7003,5895]]\n",
        "columns = ['city','monday','wednesday','friday']\n",
        "info = pd.DataFrame(data=data, columns=columns)\n",
        "print(info)\n",
        "# Таблица с результатами"
      ]
    },
    {
      "cell_type": "markdown",
      "metadata": {
        "deletable": false,
        "editable": false,
        "id": "-EgPIHYu_Zcu"
      },
      "source": [
        "Данные показывают разницу поведения пользователей:\n",
        "\n",
        "- В Москве пик прослушиваний приходится на понедельник и пятницу, а в среду заметен спад.\n",
        "- В Петербурге, наоборот, больше слушают музыку по средам. Активность в понедельник и пятницу здесь почти в равной мере уступает среде.\n",
        "\n",
        "Значит, данные говорят в пользу первой гипотезы."
      ]
    },
    {
      "cell_type": "markdown",
      "metadata": {
        "deletable": false,
        "editable": false,
        "id": "atZAxtq4_Zcu"
      },
      "source": [
        "### 3.2. Музыка в начале и в конце недели"
      ]
    },
    {
      "cell_type": "markdown",
      "metadata": {
        "deletable": false,
        "editable": false,
        "id": "eXrQqXFH_Zcu"
      },
      "source": [
        "Согласно второй гипотезе, утром в понедельник в Москве преобладают одни жанры, а в Петербурге — другие. Так же и вечером пятницы преобладают разные жанры — в зависимости от города."
      ]
    },
    {
      "cell_type": "code",
      "execution_count": null,
      "metadata": {
        "deletable": false,
        "id": "qeaFfM_P_Zcu"
      },
      "outputs": [],
      "source": [
        "moscow_general = df[df['city'] == 'Moscow']\n",
        "# получение таблицы moscow_general из тех строк таблицы df,\n",
        "# для которых значение в столбце 'city' равно 'Moscow'\n"
      ]
    },
    {
      "cell_type": "code",
      "execution_count": null,
      "metadata": {
        "deletable": false,
        "id": "ORaVRKto_Zcu"
      },
      "outputs": [],
      "source": [
        "spb_general = df[df['city']=='Saint-Petersburg']\n",
        "# получение таблицы spb_general из тех строк таблицы df,\n",
        "# для которых значение в столбце 'city' равно 'Saint-Petersburg'\n"
      ]
    },
    {
      "cell_type": "code",
      "execution_count": null,
      "metadata": {
        "deletable": false,
        "id": "laJT9BYl_Zcu"
      },
      "outputs": [],
      "source": [
        "def genre_weekday(df, day, time1, time2):\n",
        "    # последовательная фильтрация\n",
        "    # оставляем в genre_df только те строки df, у которых день равен day\n",
        "    genre_df = df[df['day'] == day]\n",
        "    # ваш код здесь\n",
        "    # оставляем в genre_df только те строки genre_df, у которых время меньше time2\n",
        "    genre_df = genre_df[genre_df['time'] < time2]\n",
        "    # ваш код здесь\n",
        "    # оставляем в genre_df только те строки genre_df, у которых время больше time1\n",
        "    genre_df = genre_df[genre_df['time'] > time1]  # ваш код здесь\n",
        "    # сгруппируем отфильтрованный датафрейм по столбцу с названиями жанров, возьмём столбец genre и посчитаем кол-во строк для каждого жанра методом count()\n",
        "    genre_df_grouped = genre_df.groupby('genre')['genre'].count() # ваш код здесь\n",
        "    # отсортируем результат по убыванию (чтобы в начале Series оказались самые популярные жанры)\n",
        "    genre_df_sorted = genre_df_grouped.sort_values(ascending=False)\n",
        "    # ваш код здесь\n",
        "    # вернём Series с 10 самыми популярными жанрами в указанный отрезок времени заданного дня\n",
        "    return genre_df_sorted[:10]\n",
        "\n"
      ]
    },
    {
      "cell_type": "code",
      "execution_count": null,
      "metadata": {
        "deletable": false,
        "id": "yz7itPUQ_Zcu"
      },
      "outputs": [],
      "source": [
        "print(genre_weekday(moscow_general, 'Monday', '07:00', '11:00')) # вызов функции для утра понедельника в Москве\n"
      ]
    },
    {
      "cell_type": "code",
      "execution_count": null,
      "metadata": {
        "deletable": false,
        "id": "kwUcHPdy_Zcu"
      },
      "outputs": [],
      "source": [
        "print(genre_weekday(spb_general, 'Monday', '07:00', '11:00')) # вызов функции для утра понедельника в Петербурге"
      ]
    },
    {
      "cell_type": "code",
      "execution_count": null,
      "metadata": {
        "deletable": false,
        "id": "EzXVRE1o_Zcu"
      },
      "outputs": [],
      "source": [
        "print(genre_weekday(moscow_general, 'Friday', '17:00', '23:00')) # вызов функции для вечера пятницы в Москве"
      ]
    },
    {
      "cell_type": "code",
      "execution_count": null,
      "metadata": {
        "deletable": false,
        "id": "JZaEKu5v_Zcu"
      },
      "outputs": [],
      "source": [
        "print(genre_weekday(spb_general, 'Friday', '17:00', '23:00')) # вызов функции для вечера пятницы в Петербурге"
      ]
    },
    {
      "cell_type": "markdown",
      "metadata": {
        "deletable": false,
        "editable": false,
        "id": "wrCe4MNX_Zcu"
      },
      "source": [
        "Если сравнить топ-10 жанров в понедельник утром, можно сделать такие выводы:\n",
        "\n",
        "1. В Москве и Петербурге слушают похожую музыку. Единственное отличие — в московский рейтинг вошёл жанр “world”, а в петербургский — джаз и классика.\n",
        "\n",
        "2. В Москве пропущенных значений оказалось так много, что значение `'unknown'` заняло десятое место среди самых популярных жанров. Значит, пропущенные значения занимают существенную долю в данных и угрожают достоверности исследования.\n",
        "\n",
        "Вечер пятницы не меняет эту картину. Некоторые жанры поднимаются немного выше, другие спускаются, но в целом топ-10 остаётся тем же самым.\n",
        "\n",
        "Таким образом, вторая гипотеза подтвердилась лишь частично:\n",
        "* Пользователи слушают похожую музыку в начале недели и в конце.\n",
        "* Разница между Москвой и Петербургом не слишком выражена. В Москве чаще слушают русскую популярную музыку, в Петербурге — джаз.\n",
        "\n",
        "Однако пропуски в данных ставят под сомнение этот результат. В Москве их так много, что рейтинг топ-10 мог бы выглядеть иначе, если бы не утерянные  данные о жанрах."
      ]
    },
    {
      "cell_type": "markdown",
      "metadata": {
        "deletable": false,
        "editable": false,
        "id": "JolODAqr_Zcu"
      },
      "source": [
        "### 3.3. Жанровые предпочтения в Москве и Петербурге\n"
      ]
    },
    {
      "cell_type": "markdown",
      "source": [
        "\n",
        "Гипотеза: В Петербурге чаще всего слушают музыку жанра рэп.  А Москва преобладает поп-музыка."
      ],
      "metadata": {
        "id": "sRkwHrwYypxV"
      }
    },
    {
      "cell_type": "code",
      "execution_count": null,
      "metadata": {
        "deletable": false,
        "id": "r19lIPke_Zcu"
      },
      "outputs": [],
      "source": [
        "moscow_genres = moscow_general.groupby('genre')['genre'].count().sort_values(ascending=False)\n"
      ]
    },
    {
      "cell_type": "code",
      "execution_count": null,
      "metadata": {
        "deletable": false,
        "id": "WhCSooF8_Zcv"
      },
      "outputs": [],
      "source": [
        "print(moscow_genres.head(10)) # просмотр первых 10 строк moscow_genres"
      ]
    },
    {
      "cell_type": "code",
      "execution_count": null,
      "metadata": {
        "deletable": false,
        "id": "gluLIpE7_Zcv"
      },
      "outputs": [],
      "source": [
        "spb_genres = spb_general.groupby('genre')['genre'].count().sort_values(ascending=False)\n"
      ]
    },
    {
      "cell_type": "code",
      "execution_count": null,
      "metadata": {
        "deletable": false,
        "id": "uaGJHjVU_Zcv"
      },
      "outputs": [],
      "source": [
        "print(spb_genres.head(10))\n",
        "# просмотр первых 10 строк spb_genres"
      ]
    },
    {
      "cell_type": "markdown",
      "metadata": {
        "deletable": false,
        "editable": false,
        "id": "nVhnJEm__Zcv"
      },
      "source": [
        "Гипотеза частично подтвердилась:\n",
        "* Поп-музыка — самый популярный жанр в Москве, как и предполагала гипотеза. Более того, в топ-10 жанров встречается близкий жанр — русская популярная музыка.\n",
        "* Вопреки ожиданиям, рэп одинаково популярен в Москве и Петербурге.\n"
      ]
    },
    {
      "cell_type": "markdown",
      "metadata": {
        "deletable": false,
        "editable": false,
        "id": "ykKQ0N65_Zcv"
      },
      "source": [
        "## 4. Выводы"
      ]
    },
    {
      "cell_type": "markdown",
      "metadata": {
        "deletable": false,
        "editable": false,
        "id": "tjUwbHb3_Zcv"
      },
      "source": [
        "После проверки трех гипотез можно предположить следующее:\n",
        "\n",
        "1. День недели по-разному влияет на активность пользователей в Москве и Петербурге. Первая гипотеза полностью подтвердилась.\n",
        "\n",
        "2. Музыкальные предпочтения не сильно меняются в течение недели — будь то Москва или Петербург. Небольшие различия заметны в начале недели, по понедельникам:\n",
        "* в Москве слушают музыку жанра “world”,\n",
        "* в Петербурге — джаз и классику.\n",
        "\n",
        "Таким образом, вторая гипотеза подтвердилась лишь отчасти. Этот результат мог оказаться иным, если бы не пропуски в данных.\n",
        "\n",
        "3. Во вкусах пользователей Москвы и Петербурга больше общего чем различий. Вопреки ожиданиям, предпочтения жанров в Петербурге напоминают московские.\n",
        "\n",
        "Третья гипотеза не подтвердилась. Если различия в предпочтениях и существуют, на основной массе пользователей они незаметны.\n"
      ]
    }
  ],
  "metadata": {
    "ExecuteTimeLog": [
      {
        "duration": 51,
        "start_time": "2022-11-24T19:49:03.540Z"
      },
      {
        "duration": 468,
        "start_time": "2022-11-24T19:49:20.101Z"
      },
      {
        "duration": 46,
        "start_time": "2022-11-24T19:49:50.151Z"
      },
      {
        "duration": 9,
        "start_time": "2022-11-24T20:18:36.343Z"
      },
      {
        "duration": 7,
        "start_time": "2022-11-24T20:21:41.762Z"
      },
      {
        "duration": 241,
        "start_time": "2022-11-24T20:22:15.971Z"
      },
      {
        "duration": 422,
        "start_time": "2022-11-24T20:22:43.299Z"
      },
      {
        "duration": 170,
        "start_time": "2022-11-24T20:22:54.912Z"
      },
      {
        "duration": 8,
        "start_time": "2022-11-24T20:22:59.512Z"
      },
      {
        "duration": 27,
        "start_time": "2022-11-24T20:28:28.169Z"
      },
      {
        "duration": 59,
        "start_time": "2022-11-25T13:50:28.117Z"
      },
      {
        "duration": 6,
        "start_time": "2022-11-25T14:00:12.611Z"
      },
      {
        "duration": 429,
        "start_time": "2022-11-25T14:00:52.762Z"
      },
      {
        "duration": 482,
        "start_time": "2022-11-25T14:00:55.064Z"
      },
      {
        "duration": 13,
        "start_time": "2022-11-25T14:00:58.251Z"
      },
      {
        "duration": 28,
        "start_time": "2022-11-25T14:01:02.737Z"
      },
      {
        "duration": 2,
        "start_time": "2022-11-25T14:01:06.547Z"
      },
      {
        "duration": 5,
        "start_time": "2022-11-25T14:01:09.836Z"
      },
      {
        "duration": 75,
        "start_time": "2022-11-25T14:03:43.563Z"
      },
      {
        "duration": 11,
        "start_time": "2022-11-25T14:04:54.578Z"
      },
      {
        "duration": 4,
        "start_time": "2022-11-25T14:05:52.494Z"
      },
      {
        "duration": 28,
        "start_time": "2022-11-25T14:10:07.715Z"
      },
      {
        "duration": 1278,
        "start_time": "2022-11-25T14:15:33.694Z"
      },
      {
        "duration": 10,
        "start_time": "2022-11-25T14:16:34.910Z"
      },
      {
        "duration": 628,
        "start_time": "2022-11-25T14:18:20.416Z"
      },
      {
        "duration": 7,
        "start_time": "2022-11-25T14:21:58.691Z"
      },
      {
        "duration": 1296,
        "start_time": "2022-11-25T14:24:42.813Z"
      },
      {
        "duration": 1395,
        "start_time": "2022-11-25T14:25:27.621Z"
      },
      {
        "duration": 31,
        "start_time": "2022-11-25T14:27:06.670Z"
      },
      {
        "duration": 23,
        "start_time": "2022-11-25T14:28:17.789Z"
      },
      {
        "duration": 106,
        "start_time": "2022-11-25T14:30:12.605Z"
      },
      {
        "duration": 14,
        "start_time": "2022-11-25T14:31:33.820Z"
      },
      {
        "duration": 106,
        "start_time": "2022-11-25T14:31:46.455Z"
      },
      {
        "duration": 128,
        "start_time": "2022-11-25T14:32:41.347Z"
      },
      {
        "duration": 124,
        "start_time": "2022-11-25T14:32:53.964Z"
      },
      {
        "duration": 11,
        "start_time": "2022-11-25T14:34:12.149Z"
      },
      {
        "duration": 76,
        "start_time": "2022-11-25T14:40:28.253Z"
      },
      {
        "duration": 75,
        "start_time": "2022-11-25T14:41:35.455Z"
      },
      {
        "duration": 110,
        "start_time": "2022-11-25T14:42:12.575Z"
      },
      {
        "duration": 54,
        "start_time": "2022-11-25T14:42:55.400Z"
      },
      {
        "duration": 58,
        "start_time": "2022-11-25T14:44:19.614Z"
      },
      {
        "duration": 11,
        "start_time": "2022-11-25T14:50:58.368Z"
      },
      {
        "duration": 13,
        "start_time": "2022-11-25T14:51:35.546Z"
      },
      {
        "duration": 45,
        "start_time": "2022-11-28T08:00:12.139Z"
      },
      {
        "duration": 7,
        "start_time": "2022-11-28T08:00:37.551Z"
      },
      {
        "duration": 353,
        "start_time": "2022-11-28T08:01:10.665Z"
      },
      {
        "duration": 472,
        "start_time": "2022-11-28T08:01:13.645Z"
      },
      {
        "duration": 8,
        "start_time": "2022-11-28T08:01:17.044Z"
      },
      {
        "duration": 31,
        "start_time": "2022-11-28T08:01:19.820Z"
      },
      {
        "duration": 2,
        "start_time": "2022-11-28T08:01:24.015Z"
      },
      {
        "duration": 3,
        "start_time": "2022-11-28T08:01:27.196Z"
      },
      {
        "duration": 13,
        "start_time": "2022-11-28T08:01:30.492Z"
      },
      {
        "duration": 4,
        "start_time": "2022-11-28T08:01:35.029Z"
      },
      {
        "duration": 23,
        "start_time": "2022-11-28T08:01:38.857Z"
      },
      {
        "duration": 20,
        "start_time": "2022-11-28T08:01:42.446Z"
      },
      {
        "duration": 25,
        "start_time": "2022-11-28T08:01:45.591Z"
      },
      {
        "duration": 64,
        "start_time": "2022-11-28T08:01:48.549Z"
      },
      {
        "duration": 70,
        "start_time": "2022-11-28T08:01:51.231Z"
      },
      {
        "duration": 60,
        "start_time": "2022-11-28T08:01:53.323Z"
      },
      {
        "duration": 57,
        "start_time": "2022-11-28T08:01:55.823Z"
      },
      {
        "duration": 11,
        "start_time": "2022-11-28T08:02:01.876Z"
      },
      {
        "duration": 6,
        "start_time": "2022-11-28T08:02:07.707Z"
      },
      {
        "duration": 7,
        "start_time": "2022-11-28T08:02:45.223Z"
      },
      {
        "duration": 49,
        "start_time": "2022-11-28T08:10:50.414Z"
      },
      {
        "duration": 10,
        "start_time": "2022-11-28T08:46:17.193Z"
      },
      {
        "duration": 13,
        "start_time": "2022-11-28T08:51:53.881Z"
      },
      {
        "duration": 64,
        "start_time": "2022-11-28T09:16:15.231Z"
      },
      {
        "duration": 8,
        "start_time": "2022-11-28T09:19:36.134Z"
      },
      {
        "duration": 8,
        "start_time": "2022-11-28T09:20:08.169Z"
      },
      {
        "duration": 9,
        "start_time": "2022-11-28T09:35:17.527Z"
      },
      {
        "duration": 10,
        "start_time": "2022-11-28T09:35:49.832Z"
      },
      {
        "duration": 9,
        "start_time": "2022-11-28T09:37:15.768Z"
      },
      {
        "duration": 9,
        "start_time": "2022-11-28T09:48:56.792Z"
      },
      {
        "duration": 10,
        "start_time": "2022-11-28T09:49:12.523Z"
      },
      {
        "duration": 22,
        "start_time": "2022-11-28T09:49:25.562Z"
      },
      {
        "duration": 21,
        "start_time": "2022-11-28T09:50:52.235Z"
      },
      {
        "duration": 90,
        "start_time": "2022-11-28T09:51:23.123Z"
      },
      {
        "duration": 67,
        "start_time": "2022-11-28T09:51:37.363Z"
      },
      {
        "duration": 18,
        "start_time": "2022-11-28T09:51:51.283Z"
      },
      {
        "duration": 8,
        "start_time": "2022-11-28T09:52:05.588Z"
      },
      {
        "duration": 9,
        "start_time": "2022-11-28T09:52:53.531Z"
      },
      {
        "duration": 9,
        "start_time": "2022-11-28T09:53:08.884Z"
      },
      {
        "duration": 9,
        "start_time": "2022-11-28T09:53:24.316Z"
      },
      {
        "duration": 27,
        "start_time": "2022-11-28T09:53:38.937Z"
      },
      {
        "duration": 30,
        "start_time": "2022-11-28T09:53:56.165Z"
      },
      {
        "duration": 28,
        "start_time": "2022-11-28T09:55:51.997Z"
      },
      {
        "duration": 16,
        "start_time": "2022-11-28T09:57:02.222Z"
      },
      {
        "duration": 907,
        "start_time": "2022-11-28T10:00:28.687Z"
      },
      {
        "duration": 874,
        "start_time": "2022-11-28T10:00:51.399Z"
      },
      {
        "duration": 15,
        "start_time": "2022-11-28T10:25:43.338Z"
      },
      {
        "duration": 14,
        "start_time": "2022-11-28T10:26:15.780Z"
      },
      {
        "duration": 3,
        "start_time": "2022-11-28T10:27:10.294Z"
      },
      {
        "duration": 4,
        "start_time": "2022-11-28T10:27:45.300Z"
      },
      {
        "duration": 5,
        "start_time": "2022-11-28T11:55:40.107Z"
      },
      {
        "duration": 5,
        "start_time": "2022-11-28T11:56:48.867Z"
      },
      {
        "duration": 4,
        "start_time": "2022-11-28T12:09:52.382Z"
      },
      {
        "duration": 4,
        "start_time": "2022-11-28T12:12:45.351Z"
      },
      {
        "duration": 17,
        "start_time": "2022-11-28T12:25:35.891Z"
      },
      {
        "duration": 14,
        "start_time": "2022-11-28T12:26:17.330Z"
      },
      {
        "duration": 15,
        "start_time": "2022-11-28T12:26:55.781Z"
      },
      {
        "duration": 15,
        "start_time": "2022-11-28T12:27:24.334Z"
      },
      {
        "duration": 16,
        "start_time": "2022-11-28T12:27:44.525Z"
      },
      {
        "duration": 15,
        "start_time": "2022-11-28T12:28:15.417Z"
      },
      {
        "duration": 11,
        "start_time": "2022-11-28T12:32:37.706Z"
      },
      {
        "duration": 15,
        "start_time": "2022-11-28T12:36:01.039Z"
      },
      {
        "duration": 6,
        "start_time": "2022-11-28T12:36:40.503Z"
      },
      {
        "duration": 14,
        "start_time": "2022-11-28T12:39:27.519Z"
      },
      {
        "duration": 15,
        "start_time": "2022-11-28T12:40:48.488Z"
      },
      {
        "duration": 14,
        "start_time": "2022-11-28T12:41:41.983Z"
      },
      {
        "duration": 7,
        "start_time": "2022-11-28T12:42:20.148Z"
      },
      {
        "duration": 16,
        "start_time": "2022-11-28T12:42:21.591Z"
      },
      {
        "duration": 6,
        "start_time": "2022-11-28T12:42:46.646Z"
      },
      {
        "duration": 5,
        "start_time": "2022-11-28T12:43:04.968Z"
      },
      {
        "duration": 6,
        "start_time": "2022-11-28T12:43:12.782Z"
      },
      {
        "duration": 6,
        "start_time": "2022-11-28T12:44:32.816Z"
      },
      {
        "duration": 6,
        "start_time": "2022-11-28T12:44:34.961Z"
      },
      {
        "duration": 15,
        "start_time": "2022-11-28T12:48:37.903Z"
      },
      {
        "duration": 15,
        "start_time": "2022-11-28T12:49:44.137Z"
      },
      {
        "duration": 5,
        "start_time": "2022-11-28T13:13:13.993Z"
      },
      {
        "duration": 5,
        "start_time": "2022-11-28T13:15:05.582Z"
      },
      {
        "duration": 5,
        "start_time": "2022-11-28T13:17:41.399Z"
      },
      {
        "duration": 23,
        "start_time": "2022-11-28T13:23:29.796Z"
      },
      {
        "duration": 18,
        "start_time": "2022-11-28T13:27:01.370Z"
      },
      {
        "duration": 13,
        "start_time": "2022-11-28T13:49:29.143Z"
      },
      {
        "duration": 6,
        "start_time": "2022-11-28T13:54:34.266Z"
      },
      {
        "duration": 10,
        "start_time": "2022-11-28T13:54:48.855Z"
      },
      {
        "duration": 5,
        "start_time": "2022-11-28T13:55:49.098Z"
      },
      {
        "duration": 6,
        "start_time": "2022-11-28T13:56:45.233Z"
      },
      {
        "duration": 4,
        "start_time": "2022-11-28T13:57:27.144Z"
      },
      {
        "duration": 377,
        "start_time": "2023-09-01T09:47:13.218Z"
      },
      {
        "duration": 266,
        "start_time": "2023-09-01T09:47:13.597Z"
      },
      {
        "duration": 10,
        "start_time": "2023-09-01T09:47:13.864Z"
      },
      {
        "duration": 30,
        "start_time": "2023-09-01T09:47:13.876Z"
      },
      {
        "duration": 3,
        "start_time": "2023-09-01T09:47:13.907Z"
      },
      {
        "duration": 5,
        "start_time": "2023-09-01T09:47:13.911Z"
      },
      {
        "duration": 26,
        "start_time": "2023-09-01T09:47:13.918Z"
      },
      {
        "duration": 10,
        "start_time": "2023-09-01T09:47:13.945Z"
      },
      {
        "duration": 32,
        "start_time": "2023-09-01T09:47:13.964Z"
      },
      {
        "duration": 24,
        "start_time": "2023-09-01T09:47:13.998Z"
      },
      {
        "duration": 20,
        "start_time": "2023-09-01T09:47:14.023Z"
      },
      {
        "duration": 98,
        "start_time": "2023-09-01T09:47:14.044Z"
      },
      {
        "duration": 81,
        "start_time": "2023-09-01T09:47:14.144Z"
      },
      {
        "duration": 65,
        "start_time": "2023-09-01T09:47:14.227Z"
      },
      {
        "duration": 44,
        "start_time": "2023-09-01T09:47:14.293Z"
      },
      {
        "duration": 31,
        "start_time": "2023-09-01T09:47:14.338Z"
      },
      {
        "duration": 48,
        "start_time": "2023-09-01T09:47:14.375Z"
      },
      {
        "duration": 11,
        "start_time": "2023-09-01T09:47:14.424Z"
      },
      {
        "duration": 23,
        "start_time": "2023-09-01T09:47:14.437Z"
      },
      {
        "duration": 9,
        "start_time": "2023-09-01T09:47:14.474Z"
      },
      {
        "duration": 22,
        "start_time": "2023-09-01T09:47:14.494Z"
      },
      {
        "duration": 13,
        "start_time": "2023-09-01T09:47:14.517Z"
      },
      {
        "duration": 12,
        "start_time": "2023-09-01T09:47:14.532Z"
      },
      {
        "duration": 30,
        "start_time": "2023-09-01T09:47:14.546Z"
      },
      {
        "duration": 14,
        "start_time": "2023-09-01T09:47:14.583Z"
      },
      {
        "duration": 12,
        "start_time": "2023-09-01T09:47:14.598Z"
      },
      {
        "duration": 6,
        "start_time": "2023-09-01T09:47:14.612Z"
      },
      {
        "duration": 12,
        "start_time": "2023-09-01T09:47:14.621Z"
      },
      {
        "duration": 15,
        "start_time": "2023-09-01T09:47:14.634Z"
      },
      {
        "duration": 16,
        "start_time": "2023-09-01T09:47:14.651Z"
      },
      {
        "duration": 28,
        "start_time": "2023-09-01T09:47:14.668Z"
      },
      {
        "duration": 10,
        "start_time": "2023-09-01T09:47:14.697Z"
      },
      {
        "duration": 15,
        "start_time": "2023-09-01T09:47:14.709Z"
      },
      {
        "duration": 28,
        "start_time": "2023-09-01T09:47:14.726Z"
      },
      {
        "duration": 17,
        "start_time": "2023-09-01T09:47:14.759Z"
      },
      {
        "duration": 10,
        "start_time": "2023-09-01T09:47:14.777Z"
      },
      {
        "duration": 7,
        "start_time": "2023-09-01T09:47:14.789Z"
      },
      {
        "duration": 5,
        "start_time": "2023-09-01T09:47:14.797Z"
      }
    ],
    "colab": {
      "provenance": [],
      "toc_visible": true,
      "include_colab_link": true
    },
    "kernelspec": {
      "display_name": "Python 3 (ipykernel)",
      "language": "python",
      "name": "python3"
    },
    "language_info": {
      "codemirror_mode": {
        "name": "ipython",
        "version": 3
      },
      "file_extension": ".py",
      "mimetype": "text/x-python",
      "name": "python",
      "nbconvert_exporter": "python",
      "pygments_lexer": "ipython3",
      "version": "3.9.5"
    },
    "toc": {
      "base_numbering": 1,
      "nav_menu": {
        "height": "215px",
        "width": "403px"
      },
      "number_sections": true,
      "sideBar": true,
      "skip_h1_title": true,
      "title_cell": "Table of Contents",
      "title_sidebar": "Contents",
      "toc_cell": false,
      "toc_position": {
        "height": "calc(100% - 180px)",
        "left": "10px",
        "top": "150px",
        "width": "285.825px"
      },
      "toc_section_display": true,
      "toc_window_display": false
    }
  },
  "nbformat": 4,
  "nbformat_minor": 0
}